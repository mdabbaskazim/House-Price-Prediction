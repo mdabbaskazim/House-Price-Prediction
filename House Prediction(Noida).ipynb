{
 "cells": [
  {
   "cell_type": "code",
   "execution_count": 110,
   "id": "fe6a6c48-47ad-48a9-9698-10031b94e1d6",
   "metadata": {},
   "outputs": [],
   "source": [
    "import pandas as pd\n",
    "import numpy as np\n",
    "from matplotlib import pyplot as plt\n",
    "%matplotlib inline\n",
    "import matplotlib\n",
    "matplotlib.rcParams[\"figure.figsize\"] = (20,10)"
   ]
  },
  {
   "cell_type": "code",
   "execution_count": 111,
   "id": "16a95b69-ef52-4e97-a047-c049453191cb",
   "metadata": {},
   "outputs": [
    {
     "data": {
      "text/html": [
       "<div>\n",
       "<style scoped>\n",
       "    .dataframe tbody tr th:only-of-type {\n",
       "        vertical-align: middle;\n",
       "    }\n",
       "\n",
       "    .dataframe tbody tr th {\n",
       "        vertical-align: top;\n",
       "    }\n",
       "\n",
       "    .dataframe thead th {\n",
       "        text-align: right;\n",
       "    }\n",
       "</style>\n",
       "<table border=\"1\" class=\"dataframe\">\n",
       "  <thead>\n",
       "    <tr style=\"text-align: right;\">\n",
       "      <th></th>\n",
       "      <th>Unnamed: 0</th>\n",
       "      <th>Area in Sqrt</th>\n",
       "      <th>No.of Bhk</th>\n",
       "      <th>Location</th>\n",
       "      <th>Price</th>\n",
       "    </tr>\n",
       "  </thead>\n",
       "  <tbody>\n",
       "    <tr>\n",
       "      <th>0</th>\n",
       "      <td>0</td>\n",
       "      <td>3720</td>\n",
       "      <td>4</td>\n",
       "      <td>Sector 107, Noida</td>\n",
       "      <td>3.9 Cr</td>\n",
       "    </tr>\n",
       "    <tr>\n",
       "      <th>1</th>\n",
       "      <td>1</td>\n",
       "      <td>1625</td>\n",
       "      <td>3</td>\n",
       "      <td>Sector 50, Noida</td>\n",
       "      <td>1.15 Cr</td>\n",
       "    </tr>\n",
       "    <tr>\n",
       "      <th>2</th>\n",
       "      <td>2</td>\n",
       "      <td>1325</td>\n",
       "      <td>3</td>\n",
       "      <td>Sector 120, Noida</td>\n",
       "      <td>60 L</td>\n",
       "    </tr>\n",
       "    <tr>\n",
       "      <th>3</th>\n",
       "      <td>3</td>\n",
       "      <td>650</td>\n",
       "      <td>1</td>\n",
       "      <td>Sector 73, Noida</td>\n",
       "      <td>19 L</td>\n",
       "    </tr>\n",
       "    <tr>\n",
       "      <th>4</th>\n",
       "      <td>4</td>\n",
       "      <td>950</td>\n",
       "      <td>2</td>\n",
       "      <td>Phase 2 Noida Extension, Noida</td>\n",
       "      <td>25.99 L</td>\n",
       "    </tr>\n",
       "  </tbody>\n",
       "</table>\n",
       "</div>"
      ],
      "text/plain": [
       "   Unnamed: 0  Area in Sqrt  No.of Bhk                        Location  \\\n",
       "0           0          3720          4               Sector 107, Noida   \n",
       "1           1          1625          3                Sector 50, Noida   \n",
       "2           2          1325          3               Sector 120, Noida   \n",
       "3           3           650          1                Sector 73, Noida   \n",
       "4           4           950          2  Phase 2 Noida Extension, Noida   \n",
       "\n",
       "      Price  \n",
       "0    3.9 Cr  \n",
       "1   1.15 Cr  \n",
       "2      60 L  \n",
       "3      19 L  \n",
       "4   25.99 L  "
      ]
     },
     "execution_count": 111,
     "metadata": {},
     "output_type": "execute_result"
    }
   ],
   "source": [
    "df1 = pd.read_csv(\"noida_flats1.csv\")\n",
    "df1.head()"
   ]
  },
  {
   "cell_type": "code",
   "execution_count": 112,
   "id": "01b06419-00ee-42db-8ba8-8e89cf87aa69",
   "metadata": {},
   "outputs": [
    {
     "data": {
      "text/plain": [
       "(4460, 5)"
      ]
     },
     "execution_count": 112,
     "metadata": {},
     "output_type": "execute_result"
    }
   ],
   "source": [
    "df1.shape"
   ]
  },
  {
   "cell_type": "code",
   "execution_count": 113,
   "id": "3336340c-312d-4cee-8067-ebdd6ff29090",
   "metadata": {},
   "outputs": [
    {
     "data": {
      "text/html": [
       "<div>\n",
       "<style scoped>\n",
       "    .dataframe tbody tr th:only-of-type {\n",
       "        vertical-align: middle;\n",
       "    }\n",
       "\n",
       "    .dataframe tbody tr th {\n",
       "        vertical-align: top;\n",
       "    }\n",
       "\n",
       "    .dataframe thead th {\n",
       "        text-align: right;\n",
       "    }\n",
       "</style>\n",
       "<table border=\"1\" class=\"dataframe\">\n",
       "  <thead>\n",
       "    <tr style=\"text-align: right;\">\n",
       "      <th></th>\n",
       "      <th>Area in Sqrt</th>\n",
       "      <th>No.of Bhk</th>\n",
       "      <th>Location</th>\n",
       "      <th>Price</th>\n",
       "    </tr>\n",
       "  </thead>\n",
       "  <tbody>\n",
       "    <tr>\n",
       "      <th>0</th>\n",
       "      <td>3720</td>\n",
       "      <td>4</td>\n",
       "      <td>Sector 107, Noida</td>\n",
       "      <td>3.9 Cr</td>\n",
       "    </tr>\n",
       "    <tr>\n",
       "      <th>1</th>\n",
       "      <td>1625</td>\n",
       "      <td>3</td>\n",
       "      <td>Sector 50, Noida</td>\n",
       "      <td>1.15 Cr</td>\n",
       "    </tr>\n",
       "    <tr>\n",
       "      <th>2</th>\n",
       "      <td>1325</td>\n",
       "      <td>3</td>\n",
       "      <td>Sector 120, Noida</td>\n",
       "      <td>60 L</td>\n",
       "    </tr>\n",
       "    <tr>\n",
       "      <th>3</th>\n",
       "      <td>650</td>\n",
       "      <td>1</td>\n",
       "      <td>Sector 73, Noida</td>\n",
       "      <td>19 L</td>\n",
       "    </tr>\n",
       "    <tr>\n",
       "      <th>4</th>\n",
       "      <td>950</td>\n",
       "      <td>2</td>\n",
       "      <td>Phase 2 Noida Extension, Noida</td>\n",
       "      <td>25.99 L</td>\n",
       "    </tr>\n",
       "  </tbody>\n",
       "</table>\n",
       "</div>"
      ],
      "text/plain": [
       "   Area in Sqrt  No.of Bhk                        Location     Price\n",
       "0          3720          4               Sector 107, Noida    3.9 Cr\n",
       "1          1625          3                Sector 50, Noida   1.15 Cr\n",
       "2          1325          3               Sector 120, Noida      60 L\n",
       "3           650          1                Sector 73, Noida      19 L\n",
       "4           950          2  Phase 2 Noida Extension, Noida   25.99 L"
      ]
     },
     "execution_count": 113,
     "metadata": {},
     "output_type": "execute_result"
    }
   ],
   "source": [
    "df2 = df1.drop(['Unnamed: 0'],axis='columns')\n",
    "df2.head()"
   ]
  },
  {
   "cell_type": "code",
   "execution_count": 114,
   "id": "0fd77731-f583-4f83-aa21-18d824ccedf5",
   "metadata": {},
   "outputs": [
    {
     "data": {
      "text/plain": [
       "Area in Sqrt    0\n",
       "No.of Bhk       0\n",
       "Location        0\n",
       "Price           0\n",
       "dtype: int64"
      ]
     },
     "execution_count": 114,
     "metadata": {},
     "output_type": "execute_result"
    }
   ],
   "source": [
    "df2.isnull().sum()"
   ]
  },
  {
   "cell_type": "code",
   "execution_count": 115,
   "id": "c9827db5-180b-4287-8c86-b188c22abba4",
   "metadata": {},
   "outputs": [
    {
     "data": {
      "text/plain": [
       "array([ 4,  3,  1,  2,  5,  6,  8, 10,  7,  9])"
      ]
     },
     "execution_count": 115,
     "metadata": {},
     "output_type": "execute_result"
    }
   ],
   "source": [
    "df2['No.of Bhk'].unique()"
   ]
  },
  {
   "cell_type": "code",
   "execution_count": 116,
   "id": "3d6bb1e3-ac42-458e-a814-43ed500a778c",
   "metadata": {},
   "outputs": [],
   "source": [
    "df3 = df2.copy()"
   ]
  },
  {
   "cell_type": "code",
   "execution_count": 117,
   "id": "49293f53-1b82-491e-b17d-814ffd7367f7",
   "metadata": {},
   "outputs": [
    {
     "data": {
      "text/html": [
       "<div>\n",
       "<style scoped>\n",
       "    .dataframe tbody tr th:only-of-type {\n",
       "        vertical-align: middle;\n",
       "    }\n",
       "\n",
       "    .dataframe tbody tr th {\n",
       "        vertical-align: top;\n",
       "    }\n",
       "\n",
       "    .dataframe thead th {\n",
       "        text-align: right;\n",
       "    }\n",
       "</style>\n",
       "<table border=\"1\" class=\"dataframe\">\n",
       "  <thead>\n",
       "    <tr style=\"text-align: right;\">\n",
       "      <th></th>\n",
       "      <th>Area_in_Sqft</th>\n",
       "      <th>Num_BHK</th>\n",
       "      <th>Location</th>\n",
       "      <th>Price</th>\n",
       "    </tr>\n",
       "  </thead>\n",
       "  <tbody>\n",
       "    <tr>\n",
       "      <th>0</th>\n",
       "      <td>3720</td>\n",
       "      <td>4</td>\n",
       "      <td>Sector 107, Noida</td>\n",
       "      <td>3.9 Cr</td>\n",
       "    </tr>\n",
       "    <tr>\n",
       "      <th>1</th>\n",
       "      <td>1625</td>\n",
       "      <td>3</td>\n",
       "      <td>Sector 50, Noida</td>\n",
       "      <td>1.15 Cr</td>\n",
       "    </tr>\n",
       "    <tr>\n",
       "      <th>2</th>\n",
       "      <td>1325</td>\n",
       "      <td>3</td>\n",
       "      <td>Sector 120, Noida</td>\n",
       "      <td>60 L</td>\n",
       "    </tr>\n",
       "    <tr>\n",
       "      <th>3</th>\n",
       "      <td>650</td>\n",
       "      <td>1</td>\n",
       "      <td>Sector 73, Noida</td>\n",
       "      <td>19 L</td>\n",
       "    </tr>\n",
       "    <tr>\n",
       "      <th>4</th>\n",
       "      <td>950</td>\n",
       "      <td>2</td>\n",
       "      <td>Phase 2 Noida Extension, Noida</td>\n",
       "      <td>25.99 L</td>\n",
       "    </tr>\n",
       "  </tbody>\n",
       "</table>\n",
       "</div>"
      ],
      "text/plain": [
       "   Area_in_Sqft  Num_BHK                        Location     Price\n",
       "0          3720        4               Sector 107, Noida    3.9 Cr\n",
       "1          1625        3                Sector 50, Noida   1.15 Cr\n",
       "2          1325        3               Sector 120, Noida      60 L\n",
       "3           650        1                Sector 73, Noida      19 L\n",
       "4           950        2  Phase 2 Noida Extension, Noida   25.99 L"
      ]
     },
     "execution_count": 117,
     "metadata": {},
     "output_type": "execute_result"
    }
   ],
   "source": [
    "df3.rename(columns={'Area in Sqrt': 'Area_in_Sqft', 'No.of Bhk': 'Num_BHK'}, inplace=True)\n",
    "df3.head()"
   ]
  },
  {
   "cell_type": "code",
   "execution_count": 118,
   "id": "c54f2fbd-2b33-48b0-8928-c757ee1474fe",
   "metadata": {},
   "outputs": [
    {
     "data": {
      "text/html": [
       "<div>\n",
       "<style scoped>\n",
       "    .dataframe tbody tr th:only-of-type {\n",
       "        vertical-align: middle;\n",
       "    }\n",
       "\n",
       "    .dataframe tbody tr th {\n",
       "        vertical-align: top;\n",
       "    }\n",
       "\n",
       "    .dataframe thead th {\n",
       "        text-align: right;\n",
       "    }\n",
       "</style>\n",
       "<table border=\"1\" class=\"dataframe\">\n",
       "  <thead>\n",
       "    <tr style=\"text-align: right;\">\n",
       "      <th></th>\n",
       "      <th>Area_in_Sqft</th>\n",
       "      <th>Num_BHK</th>\n",
       "      <th>Location</th>\n",
       "      <th>Price</th>\n",
       "    </tr>\n",
       "  </thead>\n",
       "  <tbody>\n",
       "    <tr>\n",
       "      <th>433</th>\n",
       "      <td>4500</td>\n",
       "      <td>10</td>\n",
       "      <td>Sector 30, Noida</td>\n",
       "      <td>3.3 Cr</td>\n",
       "    </tr>\n",
       "    <tr>\n",
       "      <th>535</th>\n",
       "      <td>4859</td>\n",
       "      <td>9</td>\n",
       "      <td>Sector 15A, Noida</td>\n",
       "      <td>16 Cr</td>\n",
       "    </tr>\n",
       "    <tr>\n",
       "      <th>1797</th>\n",
       "      <td>4500</td>\n",
       "      <td>9</td>\n",
       "      <td>Sector 50, Noida</td>\n",
       "      <td>9 Cr</td>\n",
       "    </tr>\n",
       "    <tr>\n",
       "      <th>2017</th>\n",
       "      <td>7000</td>\n",
       "      <td>10</td>\n",
       "      <td>Sector 26, Noida</td>\n",
       "      <td>6 Cr</td>\n",
       "    </tr>\n",
       "    <tr>\n",
       "      <th>2081</th>\n",
       "      <td>15000</td>\n",
       "      <td>10</td>\n",
       "      <td>Sector 47, Noida</td>\n",
       "      <td>12 Cr</td>\n",
       "    </tr>\n",
       "    <tr>\n",
       "      <th>3550</th>\n",
       "      <td>10000</td>\n",
       "      <td>10</td>\n",
       "      <td>Sector 61, Noida</td>\n",
       "      <td>13 Cr</td>\n",
       "    </tr>\n",
       "    <tr>\n",
       "      <th>3573</th>\n",
       "      <td>10000</td>\n",
       "      <td>10</td>\n",
       "      <td>Sector 61, Noida</td>\n",
       "      <td>5.25 Cr</td>\n",
       "    </tr>\n",
       "    <tr>\n",
       "      <th>3600</th>\n",
       "      <td>10000</td>\n",
       "      <td>10</td>\n",
       "      <td>Sector 61, Noida</td>\n",
       "      <td>5.65 Cr</td>\n",
       "    </tr>\n",
       "    <tr>\n",
       "      <th>3693</th>\n",
       "      <td>7200</td>\n",
       "      <td>9</td>\n",
       "      <td>Sector 92, Noida</td>\n",
       "      <td>6.5 Cr</td>\n",
       "    </tr>\n",
       "    <tr>\n",
       "      <th>3739</th>\n",
       "      <td>11000</td>\n",
       "      <td>9</td>\n",
       "      <td>Sector 47, Noida</td>\n",
       "      <td>10.5 Cr</td>\n",
       "    </tr>\n",
       "    <tr>\n",
       "      <th>4115</th>\n",
       "      <td>13500</td>\n",
       "      <td>10</td>\n",
       "      <td>Sector 43, Noida</td>\n",
       "      <td>7.95 Cr</td>\n",
       "    </tr>\n",
       "    <tr>\n",
       "      <th>4123</th>\n",
       "      <td>10000</td>\n",
       "      <td>10</td>\n",
       "      <td>Sector 61, Noida</td>\n",
       "      <td>5.85 Cr</td>\n",
       "    </tr>\n",
       "    <tr>\n",
       "      <th>4140</th>\n",
       "      <td>9000</td>\n",
       "      <td>9</td>\n",
       "      <td>Sector 40, Noida</td>\n",
       "      <td>20 Cr</td>\n",
       "    </tr>\n",
       "    <tr>\n",
       "      <th>4143</th>\n",
       "      <td>10500</td>\n",
       "      <td>10</td>\n",
       "      <td>Sector 61, Noida</td>\n",
       "      <td>4.24 Cr</td>\n",
       "    </tr>\n",
       "    <tr>\n",
       "      <th>4248</th>\n",
       "      <td>6000</td>\n",
       "      <td>9</td>\n",
       "      <td>Sector 46, Noida</td>\n",
       "      <td>4.65 Cr</td>\n",
       "    </tr>\n",
       "    <tr>\n",
       "      <th>4251</th>\n",
       "      <td>7000</td>\n",
       "      <td>9</td>\n",
       "      <td>Sector 46, Noida</td>\n",
       "      <td>4.35 Cr</td>\n",
       "    </tr>\n",
       "    <tr>\n",
       "      <th>4260</th>\n",
       "      <td>10000</td>\n",
       "      <td>10</td>\n",
       "      <td>Sector 61, Noida</td>\n",
       "      <td>5.85 Cr</td>\n",
       "    </tr>\n",
       "  </tbody>\n",
       "</table>\n",
       "</div>"
      ],
      "text/plain": [
       "      Area_in_Sqft  Num_BHK           Location     Price\n",
       "433           4500       10   Sector 30, Noida    3.3 Cr\n",
       "535           4859        9  Sector 15A, Noida     16 Cr\n",
       "1797          4500        9   Sector 50, Noida      9 Cr\n",
       "2017          7000       10   Sector 26, Noida      6 Cr\n",
       "2081         15000       10   Sector 47, Noida     12 Cr\n",
       "3550         10000       10   Sector 61, Noida     13 Cr\n",
       "3573         10000       10   Sector 61, Noida   5.25 Cr\n",
       "3600         10000       10   Sector 61, Noida   5.65 Cr\n",
       "3693          7200        9   Sector 92, Noida    6.5 Cr\n",
       "3739         11000        9   Sector 47, Noida   10.5 Cr\n",
       "4115         13500       10   Sector 43, Noida   7.95 Cr\n",
       "4123         10000       10   Sector 61, Noida   5.85 Cr\n",
       "4140          9000        9   Sector 40, Noida     20 Cr\n",
       "4143         10500       10   Sector 61, Noida   4.24 Cr\n",
       "4248          6000        9   Sector 46, Noida   4.65 Cr\n",
       "4251          7000        9   Sector 46, Noida   4.35 Cr\n",
       "4260         10000       10   Sector 61, Noida   5.85 Cr"
      ]
     },
     "execution_count": 118,
     "metadata": {},
     "output_type": "execute_result"
    }
   ],
   "source": [
    "df3[df3.Num_BHK>8]"
   ]
  },
  {
   "cell_type": "code",
   "execution_count": 119,
   "id": "ccfd484f-5df0-430a-8482-da284558fc8d",
   "metadata": {},
   "outputs": [
    {
     "data": {
      "text/plain": [
       "array([ 3720,  1625,  1325,   650,   950,  2050,  2460,  1425,  2500,\n",
       "        1750,  1970,   585,   783,   600,  3000,  1155,  2150,  1525,\n",
       "        1690,  6250,   750,  1500,  1050,  1775,  2450,  3751,  1180,\n",
       "        1220,   690,  1100,   960,  1150,  6480,  1380,  1695,   953,\n",
       "        4874,  1200,  2715,  1580,   604,  1300,  3047,  8000,  1245,\n",
       "        3525,  2410,  5724,   535,  1350,  1248,  2563,   990,  1390,\n",
       "        1465,  1404,  2970,  2575,  3550,  2510,  5300,  2700,  1945,\n",
       "        2385,  1760,  3465,  3325,  3775,  3575,  6100,  5550,  2850,\n",
       "        5900,  1510,   500,  3220,   850,   550,   800,   925,  2095,\n",
       "        1675,  1195,  2800,  3750,  4350,  1550,  3650,  2750,   771,\n",
       "         801,   773,  1455,   977,  1903,  1202,  1907,  3027,  2062,\n",
       "        2330,  2190,  1075,   952,   652,   657,   987,   900,   920,\n",
       "        1051,  1085,  2555,   780,  1000,   980,   820,   525,   450,\n",
       "         480,  2000,  8500,  4700,  2375,  1587,   815,   510,  2158,\n",
       "        6000,  1345,  1249,  1753,  2080,  1848,  1700,  1600,  4500,\n",
       "        4100,   945,  2548,  2600,  3600,  7000,  1650,  4200,  1430,\n",
       "        2270,   995,  1480,  1285,  2760,  2730,  1395,   620,  1140,\n",
       "        1578,  1810,   981,   648,  3198,  1305,  2440,  3165,  1947,\n",
       "        3963,  1558,  1628,  2697,  2550,  3250,  4550,  5000,  4400,\n",
       "        4859,  1608,  2126,  2122,  2105,  2100,  1630,  2250,  5150,\n",
       "        1900,  4455,  3300,  1935,  2350,  4225,  3515,  1820,  1850,\n",
       "         659,   983,   930,  1563,  1646,  1400,  2340,  1800,  1670,\n",
       "        1256,  1734,  6255,  1043,   957,   963,   962,   675,  1058,\n",
       "        1475,   940,   595,  1450,  1250,   810,  3501,  1053,  1314,\n",
       "        1440,  1025,  4690,  1320,   588,   948,   580,   575,   590,\n",
       "         798,   799,   804,  1530,   956,   967,  2511,  2124,  1656,\n",
       "        3302,  2400,  3617,  2458,  3200,  2300,  4482,  6570,  1137,\n",
       "        1128,   970,   840,  1255,  2999,  2040,  3355,  1190,  1110,\n",
       "        3996,   955,  2007,  1185,  1355,  6750,  7600,  8100,  7560,\n",
       "        2920,  3240,  1070,  1955,  3400,  1725,   985,   944,   947,\n",
       "         958,  1920,  1732,  1015,   968,   656,   658,   965,   975,\n",
       "         635,   565,   951,   660,   700,   935,  3312,   495,  3370,\n",
       "        3131,  2335,  1895,  1645,  2415,  1347,   928,  1293,  1615,\n",
       "         890,  1370,  1735,  2890,  4082,  1505,  3030,  2461,  1265,\n",
       "        2258,  1165,  1980,  2230,  1120,  3430,  1881,  5272,  1575,\n",
       "        1971,   954,   713,  1224,   792,   558,  1074,  5100,  3195,\n",
       "        2070,  1431,  2990,  1340,  2186,  1730,  1201,  1130,   593,\n",
       "        1170,  1375,  1492,  1060,  1040,  1385,  1080,  1154,  1160,\n",
       "        1890,  1199,  7500,  1445,  1147,  1472,  1230,  1215,  1620,\n",
       "        1519,  2251,  3070,  3020,  3475,  4425,  1322,  1794,   849,\n",
       "        1495,  3995,  1315,  1995,  1356,  1260,  2448,  1010,  3500,\n",
       "        3754,   665,   880,   825,  1139,  2012,  1779,  6500,  6300,\n",
       "        1335,  1570,  3850, 15000,  1095,  1795,  1719,  1264,  1574,\n",
       "        2200,  2950,  2175,  3800,  1549,  1262,  2075,  2201,  2170,\n",
       "        3540,   910,   460,  2720,  1880,  1470,  1765,  1310,   560,\n",
       "        1607,  3260,  5643,  1303,  3685,  1592,  1410,  1950,  4150,\n",
       "        3840,  1776,  3770, 10485,   645,  5410,  4060,  6550,  4955,\n",
       "        1825,  2880,  4850,  3900,  7520,  5400,  7490,  9950,  3120,\n",
       "        2380,  1660,  1819,  1227,  1096,  2925,  4900,  3700,  1290,\n",
       "        4075,  2488,  4720,  5080,  1922,   570,   555,   540,   551,\n",
       "        1045,   932,  1511,   934,  1151,  1969,  3964,  1037,  1266,\n",
       "        3280,  1792,  2268,  2725,  4910,  1835,  2910,   816,   725,\n",
       "        1187,  1194,   832,   905,   915,  1555,  1055,  2558,  1405,\n",
       "        1585,  2560,  3075,  2765,  1665,  1859,  1544,  1270,  1560,\n",
       "        1181,  3998,  1234,  1685,  1758,  1131,  1968,  1236,  2181,\n",
       "        1655,  2626,  2698,  1790,  3710,  2565,  2031,  2763,  4142,\n",
       "        2650,  2275,   592,  2345,   688,  3780,  6800,   720,  4000,\n",
       "        1246,  4644,  1295,  3940,   434,  1409,  2088,  4070,  3284,\n",
       "         766,  1090,  3631,  1865, 10000,  1082,  3223,  3184,   615,\n",
       "        5800,  1424,  1535,  7352,  4843,  1545,  1035,   875, 10500,\n",
       "        4600,  1739,  7200,  2764,  2090,  2101,  1210,  1208,  1240,\n",
       "        3115,  1211,  1595,  1864,  2389, 11000,  3756,   472,  2435,\n",
       "        2111,  1501,  1207,  1512,  1280,  1237,  1513,  1221,  1289,\n",
       "        1528,  1418,  2794,  2640,  2538,  1583,  2497,   494,  1065,\n",
       "        1115,  1759,  2535,  3943,  2280,  1860,  2955,  1020,  5825,\n",
       "        4300,  1941,  2066,  1959,  7895,  5700,  1175,  1067,  1937,\n",
       "        2645,  1710,  1720,  1435,   973,  1715,  1704,   988,  1471,\n",
       "        2545,  2259,  1275, 13500,  3950,  9000,  1145,  1398,  4875,\n",
       "        2127,  4545,  1135,  1632,  2857,  1870,  1411,  3135,  1524,\n",
       "        5600,  3625,  1174,  1436,  5530,  2210,   440])"
      ]
     },
     "execution_count": 119,
     "metadata": {},
     "output_type": "execute_result"
    }
   ],
   "source": [
    "df3.Area_in_Sqft.unique()"
   ]
  },
  {
   "cell_type": "code",
   "execution_count": 120,
   "id": "5e9425ee-bdf1-4d70-ad2e-3da2d0f6966b",
   "metadata": {},
   "outputs": [],
   "source": [
    "def convert_price(price):\n",
    "    # Split the price string into value and unit\n",
    "    value, unit = price.split()\n",
    "    value = float(value)\n",
    "    \n",
    "    if unit == 'Cr':\n",
    "        return value * 100  # Convert Crores to Lakhs\n",
    "    return value  # Keep Lakhs unchanged"
   ]
  },
  {
   "cell_type": "code",
   "execution_count": 121,
   "id": "fb338fb6-36c6-4645-8713-f03cea81873e",
   "metadata": {},
   "outputs": [
    {
     "data": {
      "text/html": [
       "<div>\n",
       "<style scoped>\n",
       "    .dataframe tbody tr th:only-of-type {\n",
       "        vertical-align: middle;\n",
       "    }\n",
       "\n",
       "    .dataframe tbody tr th {\n",
       "        vertical-align: top;\n",
       "    }\n",
       "\n",
       "    .dataframe thead th {\n",
       "        text-align: right;\n",
       "    }\n",
       "</style>\n",
       "<table border=\"1\" class=\"dataframe\">\n",
       "  <thead>\n",
       "    <tr style=\"text-align: right;\">\n",
       "      <th></th>\n",
       "      <th>Area_in_Sqft</th>\n",
       "      <th>Num_BHK</th>\n",
       "      <th>Location</th>\n",
       "      <th>Price</th>\n",
       "    </tr>\n",
       "  </thead>\n",
       "  <tbody>\n",
       "    <tr>\n",
       "      <th>0</th>\n",
       "      <td>3720</td>\n",
       "      <td>4</td>\n",
       "      <td>Sector 107, Noida</td>\n",
       "      <td>390.00</td>\n",
       "    </tr>\n",
       "    <tr>\n",
       "      <th>1</th>\n",
       "      <td>1625</td>\n",
       "      <td>3</td>\n",
       "      <td>Sector 50, Noida</td>\n",
       "      <td>115.00</td>\n",
       "    </tr>\n",
       "    <tr>\n",
       "      <th>2</th>\n",
       "      <td>1325</td>\n",
       "      <td>3</td>\n",
       "      <td>Sector 120, Noida</td>\n",
       "      <td>60.00</td>\n",
       "    </tr>\n",
       "    <tr>\n",
       "      <th>3</th>\n",
       "      <td>650</td>\n",
       "      <td>1</td>\n",
       "      <td>Sector 73, Noida</td>\n",
       "      <td>19.00</td>\n",
       "    </tr>\n",
       "    <tr>\n",
       "      <th>4</th>\n",
       "      <td>950</td>\n",
       "      <td>2</td>\n",
       "      <td>Phase 2 Noida Extension, Noida</td>\n",
       "      <td>25.99</td>\n",
       "    </tr>\n",
       "  </tbody>\n",
       "</table>\n",
       "</div>"
      ],
      "text/plain": [
       "   Area_in_Sqft  Num_BHK                        Location   Price\n",
       "0          3720        4               Sector 107, Noida  390.00\n",
       "1          1625        3                Sector 50, Noida  115.00\n",
       "2          1325        3               Sector 120, Noida   60.00\n",
       "3           650        1                Sector 73, Noida   19.00\n",
       "4           950        2  Phase 2 Noida Extension, Noida   25.99"
      ]
     },
     "execution_count": 121,
     "metadata": {},
     "output_type": "execute_result"
    }
   ],
   "source": [
    "df4 = df3.copy()\n",
    "# Apply the conversion function to the 'Price' column\n",
    "df4['Price'] = df4['Price'].apply(convert_price)\n",
    "df4.head()"
   ]
  },
  {
   "cell_type": "code",
   "execution_count": 122,
   "id": "c7a23fc7-c773-493e-9d7a-886a34b83647",
   "metadata": {},
   "outputs": [
    {
     "name": "stdout",
     "output_type": "stream",
     "text": [
      "      Area_in_Sqft  Num_BHK           Location   Price\n",
      "14            1750        3  Sector 150, Noida  135.00\n",
      "62            1390        3   Sector 78, Noida   93.82\n",
      "64            1465        3   Sector 78, Noida   98.88\n",
      "66            1155        2  Sector 150, Noida   86.00\n",
      "67            1155        2  Sector 150, Noida   86.00\n",
      "...            ...      ...                ...     ...\n",
      "4442          1850        3  Sector 152, Noida  129.00\n",
      "4443          1266        2  Sector 150, Noida  115.00\n",
      "4444          3650        4  Sector 150, Noida  259.00\n",
      "4445          2850        3  Sector 150, Noida  199.00\n",
      "4459          1050        2   Sector 49, Noida   35.00\n",
      "\n",
      "[2091 rows x 4 columns]\n"
     ]
    }
   ],
   "source": [
    "duplicates = df4[df4.duplicated()]\n",
    "print(duplicates)"
   ]
  },
  {
   "cell_type": "code",
   "execution_count": 123,
   "id": "fe616f00-082f-4707-8423-0689c05fd0d4",
   "metadata": {},
   "outputs": [
    {
     "data": {
      "text/plain": [
       "np.int64(2091)"
      ]
     },
     "execution_count": 123,
     "metadata": {},
     "output_type": "execute_result"
    }
   ],
   "source": [
    "df4.duplicated().sum()"
   ]
  },
  {
   "cell_type": "code",
   "execution_count": 124,
   "id": "a40e76e4-cc9c-45a4-a7a7-890212038aa6",
   "metadata": {},
   "outputs": [
    {
     "name": "stdout",
     "output_type": "stream",
     "text": [
      "      Area_in_Sqft  Num_BHK            Location  Price\n",
      "0             3720        4   Sector 107, Noida  390.0\n",
      "5             2050        4   Sector 150, Noida  198.0\n",
      "7             1425        3  Sector 143B, Noida   94.5\n",
      "9             1750        3   Sector 150, Noida  135.0\n",
      "10            1970        3    Sector 77, Noida  128.0\n",
      "...            ...      ...                 ...    ...\n",
      "4442          1850        3   Sector 152, Noida  129.0\n",
      "4443          1266        2   Sector 150, Noida  115.0\n",
      "4444          3650        4   Sector 150, Noida  259.0\n",
      "4445          2850        3   Sector 150, Noida  199.0\n",
      "4459          1050        2    Sector 49, Noida   35.0\n",
      "\n",
      "[2734 rows x 4 columns]\n"
     ]
    }
   ],
   "source": [
    "partial_dup = df4[df4.duplicated(subset=['Area_in_Sqft', 'Num_BHK', 'Location','Price'], keep=False)]\n",
    "print(partial_dup)"
   ]
  },
  {
   "cell_type": "code",
   "execution_count": 125,
   "id": "38115d4b-e6a9-4d13-8fe0-3100222dbd90",
   "metadata": {},
   "outputs": [
    {
     "data": {
      "text/plain": [
       "(2369, 4)"
      ]
     },
     "execution_count": 125,
     "metadata": {},
     "output_type": "execute_result"
    }
   ],
   "source": [
    "# Remove exact duplicates and store the result in df5\n",
    "df5 = df4.drop_duplicates().reset_index(drop=True)\n",
    "df5.shape"
   ]
  },
  {
   "cell_type": "code",
   "execution_count": 126,
   "id": "cd6dc7a2-b8e5-435e-ada1-4e736e20acdb",
   "metadata": {},
   "outputs": [
    {
     "data": {
      "text/html": [
       "<div>\n",
       "<style scoped>\n",
       "    .dataframe tbody tr th:only-of-type {\n",
       "        vertical-align: middle;\n",
       "    }\n",
       "\n",
       "    .dataframe tbody tr th {\n",
       "        vertical-align: top;\n",
       "    }\n",
       "\n",
       "    .dataframe thead th {\n",
       "        text-align: right;\n",
       "    }\n",
       "</style>\n",
       "<table border=\"1\" class=\"dataframe\">\n",
       "  <thead>\n",
       "    <tr style=\"text-align: right;\">\n",
       "      <th></th>\n",
       "      <th>Area_in_Sqft</th>\n",
       "      <th>Num_BHK</th>\n",
       "      <th>Location</th>\n",
       "      <th>Price</th>\n",
       "    </tr>\n",
       "  </thead>\n",
       "  <tbody>\n",
       "    <tr>\n",
       "      <th>0</th>\n",
       "      <td>3720</td>\n",
       "      <td>4</td>\n",
       "      <td>Sector 107, Noida</td>\n",
       "      <td>390.0</td>\n",
       "    </tr>\n",
       "    <tr>\n",
       "      <th>1</th>\n",
       "      <td>1625</td>\n",
       "      <td>3</td>\n",
       "      <td>Sector 50, Noida</td>\n",
       "      <td>115.0</td>\n",
       "    </tr>\n",
       "    <tr>\n",
       "      <th>2</th>\n",
       "      <td>1325</td>\n",
       "      <td>3</td>\n",
       "      <td>Sector 120, Noida</td>\n",
       "      <td>60.0</td>\n",
       "    </tr>\n",
       "  </tbody>\n",
       "</table>\n",
       "</div>"
      ],
      "text/plain": [
       "   Area_in_Sqft  Num_BHK           Location  Price\n",
       "0          3720        4  Sector 107, Noida  390.0\n",
       "1          1625        3   Sector 50, Noida  115.0\n",
       "2          1325        3  Sector 120, Noida   60.0"
      ]
     },
     "execution_count": 126,
     "metadata": {},
     "output_type": "execute_result"
    }
   ],
   "source": [
    "df5.head(3)"
   ]
  },
  {
   "cell_type": "code",
   "execution_count": 127,
   "id": "73743021-ce8f-4ed8-8a89-2b2f2957f8f6",
   "metadata": {},
   "outputs": [
    {
     "data": {
      "text/html": [
       "<div>\n",
       "<style scoped>\n",
       "    .dataframe tbody tr th:only-of-type {\n",
       "        vertical-align: middle;\n",
       "    }\n",
       "\n",
       "    .dataframe tbody tr th {\n",
       "        vertical-align: top;\n",
       "    }\n",
       "\n",
       "    .dataframe thead th {\n",
       "        text-align: right;\n",
       "    }\n",
       "</style>\n",
       "<table border=\"1\" class=\"dataframe\">\n",
       "  <thead>\n",
       "    <tr style=\"text-align: right;\">\n",
       "      <th></th>\n",
       "      <th>Area_in_Sqft</th>\n",
       "      <th>Num_BHK</th>\n",
       "      <th>Location</th>\n",
       "      <th>Price</th>\n",
       "      <th>price_per_sqft</th>\n",
       "    </tr>\n",
       "  </thead>\n",
       "  <tbody>\n",
       "    <tr>\n",
       "      <th>0</th>\n",
       "      <td>3720</td>\n",
       "      <td>4</td>\n",
       "      <td>Sector 107, Noida</td>\n",
       "      <td>390.00</td>\n",
       "      <td>10483.870968</td>\n",
       "    </tr>\n",
       "    <tr>\n",
       "      <th>1</th>\n",
       "      <td>1625</td>\n",
       "      <td>3</td>\n",
       "      <td>Sector 50, Noida</td>\n",
       "      <td>115.00</td>\n",
       "      <td>7076.923077</td>\n",
       "    </tr>\n",
       "    <tr>\n",
       "      <th>2</th>\n",
       "      <td>1325</td>\n",
       "      <td>3</td>\n",
       "      <td>Sector 120, Noida</td>\n",
       "      <td>60.00</td>\n",
       "      <td>4528.301887</td>\n",
       "    </tr>\n",
       "    <tr>\n",
       "      <th>3</th>\n",
       "      <td>650</td>\n",
       "      <td>1</td>\n",
       "      <td>Sector 73, Noida</td>\n",
       "      <td>19.00</td>\n",
       "      <td>2923.076923</td>\n",
       "    </tr>\n",
       "    <tr>\n",
       "      <th>4</th>\n",
       "      <td>950</td>\n",
       "      <td>2</td>\n",
       "      <td>Phase 2 Noida Extension, Noida</td>\n",
       "      <td>25.99</td>\n",
       "      <td>2735.789474</td>\n",
       "    </tr>\n",
       "  </tbody>\n",
       "</table>\n",
       "</div>"
      ],
      "text/plain": [
       "   Area_in_Sqft  Num_BHK                        Location   Price  \\\n",
       "0          3720        4               Sector 107, Noida  390.00   \n",
       "1          1625        3                Sector 50, Noida  115.00   \n",
       "2          1325        3               Sector 120, Noida   60.00   \n",
       "3           650        1                Sector 73, Noida   19.00   \n",
       "4           950        2  Phase 2 Noida Extension, Noida   25.99   \n",
       "\n",
       "   price_per_sqft  \n",
       "0    10483.870968  \n",
       "1     7076.923077  \n",
       "2     4528.301887  \n",
       "3     2923.076923  \n",
       "4     2735.789474  "
      ]
     },
     "execution_count": 127,
     "metadata": {},
     "output_type": "execute_result"
    }
   ],
   "source": [
    "df6 = df5.copy()\n",
    "df6['price_per_sqft'] = df6['Price']*100000/df6['Area_in_Sqft']\n",
    "df6.head()"
   ]
  },
  {
   "cell_type": "code",
   "execution_count": 128,
   "id": "dfdad893-3af9-40df-aac8-0b5ace38ded6",
   "metadata": {},
   "outputs": [
    {
     "data": {
      "text/plain": [
       "91"
      ]
     },
     "execution_count": 128,
     "metadata": {},
     "output_type": "execute_result"
    }
   ],
   "source": [
    "len(df6.Location.unique())"
   ]
  },
  {
   "cell_type": "code",
   "execution_count": 129,
   "id": "0bf525dd-42c0-487a-928d-16aa7904cc89",
   "metadata": {},
   "outputs": [
    {
     "data": {
      "text/plain": [
       "Location\n",
       "Sector 150, Noida          492\n",
       "Sector 73, Noida           177\n",
       "Sector 49, Noida           124\n",
       "Sector 75, Noida            92\n",
       "Sector 137, Noida           81\n",
       "                          ... \n",
       "Sector 91, Noida             1\n",
       "Sector 22, Noida             1\n",
       "Chhajarsi Colony, Noida      1\n",
       "Sector 33, Noida             1\n",
       "Bahlolpur, Noida             1\n",
       "Name: Location, Length: 91, dtype: int64"
      ]
     },
     "execution_count": 129,
     "metadata": {},
     "output_type": "execute_result"
    }
   ],
   "source": [
    "df6.Location = df6.Location.apply(lambda x: x.strip())\n",
    "\n",
    "location_stats = df6.groupby('Location')['Location'].agg('count').sort_values(ascending=False)\n",
    "location_stats"
   ]
  },
  {
   "cell_type": "code",
   "execution_count": 130,
   "id": "f67590af-6a96-46b1-8058-c6e338f70963",
   "metadata": {},
   "outputs": [
    {
     "data": {
      "text/plain": [
       "38"
      ]
     },
     "execution_count": 130,
     "metadata": {},
     "output_type": "execute_result"
    }
   ],
   "source": [
    "len(location_stats[location_stats<=5])"
   ]
  },
  {
   "cell_type": "code",
   "execution_count": 131,
   "id": "ab6256a9-fc8d-4acc-a9e7-3b9266be4dc5",
   "metadata": {},
   "outputs": [
    {
     "data": {
      "text/plain": [
       "Location\n",
       "Sector 27, Noida                       5\n",
       "Sector 28, Noida                       5\n",
       "Sector 51, Noida                       5\n",
       "Sector 16B, Noida                      5\n",
       "Sector 17A Yamuna Expressway, Noida    5\n",
       "Sector 71, Noida                       4\n",
       "rho 2, Noida                           4\n",
       "Sector 30, Noida                       4\n",
       "Sector 117, Noida                      4\n",
       "Sector 102, Noida                      4\n",
       "Sector 168, Noida                      4\n",
       "Sector 47, Noida                       3\n",
       "Sector 36, Noida                       3\n",
       "Sector 52, Noida                       3\n",
       "Sector 113, Noida                      3\n",
       "Sector 81, Noida                       2\n",
       "Sector 92, Noida                       2\n",
       "Sector 93B, Noida                      2\n",
       "Yeida, Noida                           2\n",
       "Sector 26, Noida                       2\n",
       "Sector 15, Noida                       2\n",
       "Sector 25 Yamuna Express Way, Noida    2\n",
       "Sector 22D Yamuna Expressway, Noida    2\n",
       "Sector 122, Noida                      2\n",
       "Sector 14A, Noida                      1\n",
       "Dallupura, Noida                       1\n",
       "Sector 101, Noida                      1\n",
       "Sector1, Noida                         1\n",
       "Sector 12, Noida                       1\n",
       "Sector 129, Noida                      1\n",
       "Sector 70, Noida                       1\n",
       "Sector 56, Noida                       1\n",
       "Sector 16, Noida                       1\n",
       "Sector 91, Noida                       1\n",
       "Sector 22, Noida                       1\n",
       "Chhajarsi Colony, Noida                1\n",
       "Sector 33, Noida                       1\n",
       "Bahlolpur, Noida                       1\n",
       "Name: Location, dtype: int64"
      ]
     },
     "execution_count": 131,
     "metadata": {},
     "output_type": "execute_result"
    }
   ],
   "source": [
    "location_stats_less_than_5 = location_stats[location_stats<=5]\n",
    "location_stats_less_than_5"
   ]
  },
  {
   "cell_type": "code",
   "execution_count": 132,
   "id": "09fcd27f-2ff8-4812-bfa2-7acb18cd93d7",
   "metadata": {},
   "outputs": [
    {
     "data": {
      "text/plain": [
       "91"
      ]
     },
     "execution_count": 132,
     "metadata": {},
     "output_type": "execute_result"
    }
   ],
   "source": [
    "len(df6.Location.unique())"
   ]
  },
  {
   "cell_type": "code",
   "execution_count": 133,
   "id": "6408ced8-aeeb-4006-83f5-0d09b34dd15e",
   "metadata": {},
   "outputs": [
    {
     "data": {
      "text/plain": [
       "54"
      ]
     },
     "execution_count": 133,
     "metadata": {},
     "output_type": "execute_result"
    }
   ],
   "source": [
    "df6.Location = df6.Location.apply(lambda x: 'other' if x in location_stats_less_than_5 else x )\n",
    "len(df6.Location.unique())"
   ]
  },
  {
   "cell_type": "code",
   "execution_count": 134,
   "id": "055afa69-42a4-49e9-9026-bd5eb195ae69",
   "metadata": {},
   "outputs": [
    {
     "data": {
      "text/html": [
       "<div>\n",
       "<style scoped>\n",
       "    .dataframe tbody tr th:only-of-type {\n",
       "        vertical-align: middle;\n",
       "    }\n",
       "\n",
       "    .dataframe tbody tr th {\n",
       "        vertical-align: top;\n",
       "    }\n",
       "\n",
       "    .dataframe thead th {\n",
       "        text-align: right;\n",
       "    }\n",
       "</style>\n",
       "<table border=\"1\" class=\"dataframe\">\n",
       "  <thead>\n",
       "    <tr style=\"text-align: right;\">\n",
       "      <th></th>\n",
       "      <th>Area_in_Sqft</th>\n",
       "      <th>Num_BHK</th>\n",
       "      <th>Location</th>\n",
       "      <th>Price</th>\n",
       "      <th>price_per_sqft</th>\n",
       "    </tr>\n",
       "  </thead>\n",
       "  <tbody>\n",
       "    <tr>\n",
       "      <th>0</th>\n",
       "      <td>3720</td>\n",
       "      <td>4</td>\n",
       "      <td>Sector 107, Noida</td>\n",
       "      <td>390.00</td>\n",
       "      <td>10483.870968</td>\n",
       "    </tr>\n",
       "    <tr>\n",
       "      <th>1</th>\n",
       "      <td>1625</td>\n",
       "      <td>3</td>\n",
       "      <td>Sector 50, Noida</td>\n",
       "      <td>115.00</td>\n",
       "      <td>7076.923077</td>\n",
       "    </tr>\n",
       "    <tr>\n",
       "      <th>2</th>\n",
       "      <td>1325</td>\n",
       "      <td>3</td>\n",
       "      <td>Sector 120, Noida</td>\n",
       "      <td>60.00</td>\n",
       "      <td>4528.301887</td>\n",
       "    </tr>\n",
       "    <tr>\n",
       "      <th>3</th>\n",
       "      <td>650</td>\n",
       "      <td>1</td>\n",
       "      <td>Sector 73, Noida</td>\n",
       "      <td>19.00</td>\n",
       "      <td>2923.076923</td>\n",
       "    </tr>\n",
       "    <tr>\n",
       "      <th>4</th>\n",
       "      <td>950</td>\n",
       "      <td>2</td>\n",
       "      <td>Phase 2 Noida Extension, Noida</td>\n",
       "      <td>25.99</td>\n",
       "      <td>2735.789474</td>\n",
       "    </tr>\n",
       "    <tr>\n",
       "      <th>5</th>\n",
       "      <td>2050</td>\n",
       "      <td>4</td>\n",
       "      <td>Sector 150, Noida</td>\n",
       "      <td>198.00</td>\n",
       "      <td>9658.536585</td>\n",
       "    </tr>\n",
       "    <tr>\n",
       "      <th>6</th>\n",
       "      <td>2460</td>\n",
       "      <td>3</td>\n",
       "      <td>Sector 150, Noida</td>\n",
       "      <td>222.00</td>\n",
       "      <td>9024.390244</td>\n",
       "    </tr>\n",
       "    <tr>\n",
       "      <th>7</th>\n",
       "      <td>1425</td>\n",
       "      <td>3</td>\n",
       "      <td>Sector 143B, Noida</td>\n",
       "      <td>94.50</td>\n",
       "      <td>6631.578947</td>\n",
       "    </tr>\n",
       "    <tr>\n",
       "      <th>8</th>\n",
       "      <td>2500</td>\n",
       "      <td>3</td>\n",
       "      <td>Sector 107, Noida</td>\n",
       "      <td>225.00</td>\n",
       "      <td>9000.000000</td>\n",
       "    </tr>\n",
       "    <tr>\n",
       "      <th>9</th>\n",
       "      <td>1750</td>\n",
       "      <td>3</td>\n",
       "      <td>Sector 150, Noida</td>\n",
       "      <td>135.00</td>\n",
       "      <td>7714.285714</td>\n",
       "    </tr>\n",
       "  </tbody>\n",
       "</table>\n",
       "</div>"
      ],
      "text/plain": [
       "   Area_in_Sqft  Num_BHK                        Location   Price  \\\n",
       "0          3720        4               Sector 107, Noida  390.00   \n",
       "1          1625        3                Sector 50, Noida  115.00   \n",
       "2          1325        3               Sector 120, Noida   60.00   \n",
       "3           650        1                Sector 73, Noida   19.00   \n",
       "4           950        2  Phase 2 Noida Extension, Noida   25.99   \n",
       "5          2050        4               Sector 150, Noida  198.00   \n",
       "6          2460        3               Sector 150, Noida  222.00   \n",
       "7          1425        3              Sector 143B, Noida   94.50   \n",
       "8          2500        3               Sector 107, Noida  225.00   \n",
       "9          1750        3               Sector 150, Noida  135.00   \n",
       "\n",
       "   price_per_sqft  \n",
       "0    10483.870968  \n",
       "1     7076.923077  \n",
       "2     4528.301887  \n",
       "3     2923.076923  \n",
       "4     2735.789474  \n",
       "5     9658.536585  \n",
       "6     9024.390244  \n",
       "7     6631.578947  \n",
       "8     9000.000000  \n",
       "9     7714.285714  "
      ]
     },
     "execution_count": 134,
     "metadata": {},
     "output_type": "execute_result"
    }
   ],
   "source": [
    "df6.head(10)"
   ]
  },
  {
   "cell_type": "markdown",
   "id": "2acc9243-fe9c-4c05-bb09-1d9d97b9dbbb",
   "metadata": {},
   "source": [
    "**Removing Outliers**"
   ]
  },
  {
   "cell_type": "code",
   "execution_count": 140,
   "id": "059755de-be13-4f20-b551-ba7e008cd0ef",
   "metadata": {
    "scrolled": true
   },
   "outputs": [
    {
     "data": {
      "text/html": [
       "<div>\n",
       "<style scoped>\n",
       "    .dataframe tbody tr th:only-of-type {\n",
       "        vertical-align: middle;\n",
       "    }\n",
       "\n",
       "    .dataframe tbody tr th {\n",
       "        vertical-align: top;\n",
       "    }\n",
       "\n",
       "    .dataframe thead th {\n",
       "        text-align: right;\n",
       "    }\n",
       "</style>\n",
       "<table border=\"1\" class=\"dataframe\">\n",
       "  <thead>\n",
       "    <tr style=\"text-align: right;\">\n",
       "      <th></th>\n",
       "      <th>Area_in_Sqft</th>\n",
       "      <th>Num_BHK</th>\n",
       "      <th>Location</th>\n",
       "      <th>Price</th>\n",
       "      <th>price_per_sqft</th>\n",
       "    </tr>\n",
       "  </thead>\n",
       "  <tbody>\n",
       "    <tr>\n",
       "      <th>13</th>\n",
       "      <td>783</td>\n",
       "      <td>3</td>\n",
       "      <td>Sector 150, Noida</td>\n",
       "      <td>105.00</td>\n",
       "      <td>13409.961686</td>\n",
       "    </tr>\n",
       "    <tr>\n",
       "      <th>636</th>\n",
       "      <td>1100</td>\n",
       "      <td>4</td>\n",
       "      <td>Sector 50, Noida</td>\n",
       "      <td>35.65</td>\n",
       "      <td>3240.909091</td>\n",
       "    </tr>\n",
       "    <tr>\n",
       "      <th>766</th>\n",
       "      <td>792</td>\n",
       "      <td>3</td>\n",
       "      <td>Sector 19 Yamuna Expressway, Noida</td>\n",
       "      <td>50.52</td>\n",
       "      <td>6378.787879</td>\n",
       "    </tr>\n",
       "    <tr>\n",
       "      <th>767</th>\n",
       "      <td>558</td>\n",
       "      <td>2</td>\n",
       "      <td>Sector 19 Yamuna Expressway, Noida</td>\n",
       "      <td>36.60</td>\n",
       "      <td>6559.139785</td>\n",
       "    </tr>\n",
       "    <tr>\n",
       "      <th>1167</th>\n",
       "      <td>460</td>\n",
       "      <td>2</td>\n",
       "      <td>Urbainia Trinity Noida Extension Yakubpur Noid...</td>\n",
       "      <td>12.99</td>\n",
       "      <td>2823.913043</td>\n",
       "    </tr>\n",
       "  </tbody>\n",
       "</table>\n",
       "</div>"
      ],
      "text/plain": [
       "      Area_in_Sqft  Num_BHK  \\\n",
       "13             783        3   \n",
       "636           1100        4   \n",
       "766            792        3   \n",
       "767            558        2   \n",
       "1167           460        2   \n",
       "\n",
       "                                               Location   Price  \\\n",
       "13                                    Sector 150, Noida  105.00   \n",
       "636                                    Sector 50, Noida   35.65   \n",
       "766                  Sector 19 Yamuna Expressway, Noida   50.52   \n",
       "767                  Sector 19 Yamuna Expressway, Noida   36.60   \n",
       "1167  Urbainia Trinity Noida Extension Yakubpur Noid...   12.99   \n",
       "\n",
       "      price_per_sqft  \n",
       "13      13409.961686  \n",
       "636      3240.909091  \n",
       "766      6378.787879  \n",
       "767      6559.139785  \n",
       "1167     2823.913043  "
      ]
     },
     "execution_count": 140,
     "metadata": {},
     "output_type": "execute_result"
    }
   ],
   "source": [
    "df6[df6.Area_in_Sqft/df6.Num_BHK<300].head()"
   ]
  },
  {
   "cell_type": "code",
   "execution_count": 141,
   "id": "3f0e2c84-e875-4e76-a48b-d50197be4aa9",
   "metadata": {},
   "outputs": [
    {
     "data": {
      "text/plain": [
       "(2369, 5)"
      ]
     },
     "execution_count": 141,
     "metadata": {},
     "output_type": "execute_result"
    }
   ],
   "source": [
    "df6.shape"
   ]
  },
  {
   "cell_type": "code",
   "execution_count": 142,
   "id": "b22b54e3-2221-40c7-b9df-b655aef1e8ff",
   "metadata": {},
   "outputs": [
    {
     "data": {
      "text/plain": [
       "(2362, 5)"
      ]
     },
     "execution_count": 142,
     "metadata": {},
     "output_type": "execute_result"
    }
   ],
   "source": [
    "df7 = df6[~(df6.Area_in_Sqft/df6.Num_BHK<300)]\n",
    "df7.shape"
   ]
  },
  {
   "cell_type": "code",
   "execution_count": 143,
   "id": "ff1a786a-5a67-4514-bae8-6e1bf9ed4ad2",
   "metadata": {},
   "outputs": [
    {
     "data": {
      "text/plain": [
       "count     2362.000000\n",
       "mean      6808.082696\n",
       "std       4880.408764\n",
       "min       1406.752412\n",
       "25%       3220.652174\n",
       "50%       5925.627968\n",
       "75%       8484.095509\n",
       "max      68571.428571\n",
       "Name: price_per_sqft, dtype: float64"
      ]
     },
     "execution_count": 143,
     "metadata": {},
     "output_type": "execute_result"
    }
   ],
   "source": [
    "df7.price_per_sqft.describe()"
   ]
  },
  {
   "cell_type": "code",
   "execution_count": 144,
   "id": "c97f14d2-c8c1-44b4-9d87-9a74a201b636",
   "metadata": {},
   "outputs": [
    {
     "data": {
      "text/plain": [
       "(1746, 5)"
      ]
     },
     "execution_count": 144,
     "metadata": {},
     "output_type": "execute_result"
    }
   ],
   "source": [
    "def remove_pps_outliers(df):\n",
    "    df_out = pd.DataFrame()\n",
    "    for key, subdf in df.groupby('Location'):\n",
    "        m = np.mean(subdf.price_per_sqft)\n",
    "        st = np.std(subdf.price_per_sqft)\n",
    "        reduced_df = subdf[(subdf.price_per_sqft>(m-st)) & (subdf.price_per_sqft<=(m+st))]\n",
    "        df_out = pd.concat([df_out,reduced_df],ignore_index=True)\n",
    "    return df_out\n",
    "df8 = remove_pps_outliers(df7)\n",
    "df8.shape"
   ]
  },
  {
   "cell_type": "code",
   "execution_count": 146,
   "id": "836d3e36-a06b-42dc-8064-5749f09bc96b",
   "metadata": {},
   "outputs": [
    {
     "data": {
      "image/png": "[encoded data removed]",
      "text/plain": [
       "<Figure size 1500x1000 with 1 Axes>"
      ]
     },
     "metadata": {},
     "output_type": "display_data"
    }
   ],
   "source": [
    "def plot_scatter_chart(df,location):\n",
    "    bhk2 = df[(df.Location == location) & (df.Num_BHK==2)]\n",
    "    bhk3 = df[(df.Location == location) & (df.Num_BHK==3)]\n",
    "    matplotlib.rcParams['figure.figsize'] = (15,10)\n",
    "    plt.scatter(bhk2.Area_in_Sqft,bhk2.Price,color='blue', label='2 BHK', s = 50)\n",
    "    plt.scatter(bhk3.Area_in_Sqft,bhk3.Price,marker='+',color='green', label='3 BHK', s = 50)\n",
    "    plt.xlabel(\"Total Square Feet Area\")\n",
    "    plt.ylabel(\"Price Per Square Feet\")\n",
    "    plt.title(location)\n",
    "    plt.legend()\n",
    "plot_scatter_chart(df8,\"Sector 150, Noida\")"
   ]
  },
  {
   "cell_type": "markdown",
   "id": "c3cc5d08-df01-4ba7-b9c7-d4f941c2438c",
   "metadata": {},
   "source": [
    "**We should also remove properties where for same location, the price of(for example) 3 bedroom apartment is less than 2 bedroom apartment (with same square ft area). What we will do is for a given location, we will build a dictionary of stats per bhk, i.e. { '1' : { 'mean': 4000, 'std': 2000, 'count': 34 }, '2' : { 'mean': 4300, 'std': 2300, 'count': 22 }, } Now we can remove those 2 BHK apartments whose price_per_sqft is less than mean price_per_sqft of 1 BHK apartment**"
   ]
  },
  {
   "cell_type": "code",
   "execution_count": 147,
   "id": "5b2860df-ff92-4c0f-b6a7-488e7f3dbf69",
   "metadata": {},
   "outputs": [
    {
     "data": {
      "text/plain": [
       "(1257, 5)"
      ]
     },
     "execution_count": 147,
     "metadata": {},
     "output_type": "execute_result"
    }
   ],
   "source": [
    "def remove_bhk_outliers(df):\n",
    "    exclude_indices = np.array([])\n",
    "    for location, location_df in df.groupby('Location'):\n",
    "        bhk_stats = {}\n",
    "        for bhk, bhk_df in location_df.groupby('Num_BHK'):\n",
    "            bhk_stats[bhk] = {\n",
    "            'mean': np.mean(bhk_df.price_per_sqft),\n",
    "            'std': np.std(bhk_df.price_per_sqft),\n",
    "            'count': bhk_df.shape[0]\n",
    "            }\n",
    "        for bhk, bhk_df in location_df.groupby('Num_BHK'):\n",
    "            stats = bhk_stats.get(bhk-1)\n",
    "            if stats and stats['count']>5:\n",
    "                exclude_indices = np.append(exclude_indices, bhk_df[bhk_df.price_per_sqft<(stats['mean'])].index.values)\n",
    "    return df.drop(exclude_indices,axis='index')\n",
    "df9 = remove_bhk_outliers(df8)\n",
    "df9.shape"
   ]
  },
  {
   "cell_type": "code",
   "execution_count": 148,
   "id": "8d9065ce-21bb-4577-9892-f0fe5d739822",
   "metadata": {},
   "outputs": [
    {
     "data": {
      "image/png": "[encoded data removed]",
      "text/plain": [
       "<Figure size 1500x1000 with 1 Axes>"
      ]
     },
     "metadata": {},
     "output_type": "display_data"
    }
   ],
   "source": [
    "plot_scatter_chart(df9,\"Sector 150, Noida\")"
   ]
  },
  {
   "cell_type": "code",
   "execution_count": 149,
   "id": "e2e37f59-64d2-4ef4-a459-350f1f9be8e2",
   "metadata": {},
   "outputs": [
    {
     "data": {
      "text/plain": [
       "Text(0, 0.5, 'count')"
      ]
     },
     "execution_count": 149,
     "metadata": {},
     "output_type": "execute_result"
    },
    {
     "data": {
      "image/png": "[encoded data removed]",
      "text/plain": [
       "<Figure size 1500x1000 with 1 Axes>"
      ]
     },
     "metadata": {},
     "output_type": "display_data"
    }
   ],
   "source": [
    "plt.hist(df9.price_per_sqft,rwidth=0.8)\n",
    "plt.xlabel(\"Price Per Square Feet\")\n",
    "plt.ylabel(\"count\")"
   ]
  },
  {
   "cell_type": "code",
   "execution_count": 150,
   "id": "aab184d4-b0ca-4d78-8246-aa7fa49ad35e",
   "metadata": {},
   "outputs": [
    {
     "data": {
      "text/plain": [
       "(1257, 5)"
      ]
     },
     "execution_count": 150,
     "metadata": {},
     "output_type": "execute_result"
    }
   ],
   "source": [
    "df9.shape"
   ]
  },
  {
   "cell_type": "code",
   "execution_count": 151,
   "id": "170215dc-4ba7-4cc0-b00f-0ba1c658c46d",
   "metadata": {},
   "outputs": [
    {
     "data": {
      "text/html": [
       "<div>\n",
       "<style scoped>\n",
       "    .dataframe tbody tr th:only-of-type {\n",
       "        vertical-align: middle;\n",
       "    }\n",
       "\n",
       "    .dataframe tbody tr th {\n",
       "        vertical-align: top;\n",
       "    }\n",
       "\n",
       "    .dataframe thead th {\n",
       "        text-align: right;\n",
       "    }\n",
       "</style>\n",
       "<table border=\"1\" class=\"dataframe\">\n",
       "  <thead>\n",
       "    <tr style=\"text-align: right;\">\n",
       "      <th></th>\n",
       "      <th>Area_in_Sqft</th>\n",
       "      <th>Num_BHK</th>\n",
       "      <th>Location</th>\n",
       "      <th>Price</th>\n",
       "    </tr>\n",
       "  </thead>\n",
       "  <tbody>\n",
       "    <tr>\n",
       "      <th>0</th>\n",
       "      <td>950</td>\n",
       "      <td>2</td>\n",
       "      <td>Phase 2 Noida Extension, Noida</td>\n",
       "      <td>25.99</td>\n",
       "    </tr>\n",
       "    <tr>\n",
       "      <th>1</th>\n",
       "      <td>945</td>\n",
       "      <td>2</td>\n",
       "      <td>Phase 2 Noida Extension, Noida</td>\n",
       "      <td>25.90</td>\n",
       "    </tr>\n",
       "    <tr>\n",
       "      <th>2</th>\n",
       "      <td>1350</td>\n",
       "      <td>3</td>\n",
       "      <td>Phase 2 Noida Extension, Noida</td>\n",
       "      <td>35.90</td>\n",
       "    </tr>\n",
       "  </tbody>\n",
       "</table>\n",
       "</div>"
      ],
      "text/plain": [
       "   Area_in_Sqft  Num_BHK                        Location  Price\n",
       "0           950        2  Phase 2 Noida Extension, Noida  25.99\n",
       "1           945        2  Phase 2 Noida Extension, Noida  25.90\n",
       "2          1350        3  Phase 2 Noida Extension, Noida  35.90"
      ]
     },
     "execution_count": 151,
     "metadata": {},
     "output_type": "execute_result"
    }
   ],
   "source": [
    "df10 = df9.drop(['price_per_sqft'],axis='columns')\n",
    "df10.head(3)"
   ]
  },
  {
   "cell_type": "markdown",
   "id": "3bf135c2-e3ba-4a10-a595-4bfd862667c1",
   "metadata": {},
   "source": [
    "**One-Hot Encoding (OHE)**"
   ]
  },
  {
   "cell_type": "code",
   "execution_count": 152,
   "id": "423fbc52-8ea2-4362-91f6-4f802442c98c",
   "metadata": {},
   "outputs": [
    {
     "data": {
      "text/html": [
       "<div>\n",
       "<style scoped>\n",
       "    .dataframe tbody tr th:only-of-type {\n",
       "        vertical-align: middle;\n",
       "    }\n",
       "\n",
       "    .dataframe tbody tr th {\n",
       "        vertical-align: top;\n",
       "    }\n",
       "\n",
       "    .dataframe thead th {\n",
       "        text-align: right;\n",
       "    }\n",
       "</style>\n",
       "<table border=\"1\" class=\"dataframe\">\n",
       "  <thead>\n",
       "    <tr style=\"text-align: right;\">\n",
       "      <th></th>\n",
       "      <th>Phase 2 Noida Extension, Noida</th>\n",
       "      <th>Sector 100, Noida</th>\n",
       "      <th>Sector 104, Noida</th>\n",
       "      <th>Sector 105, Noida</th>\n",
       "      <th>Sector 107, Noida</th>\n",
       "      <th>Sector 108, Noida</th>\n",
       "      <th>Sector 110, Noida</th>\n",
       "      <th>Sector 118, Noida</th>\n",
       "      <th>Sector 119, Noida</th>\n",
       "      <th>Sector 120, Noida</th>\n",
       "      <th>...</th>\n",
       "      <th>Sector 77, Noida</th>\n",
       "      <th>Sector 78, Noida</th>\n",
       "      <th>Sector 79, Noida</th>\n",
       "      <th>Sector 82, Noida</th>\n",
       "      <th>Sector 93, Noida</th>\n",
       "      <th>Sector 93A, Noida</th>\n",
       "      <th>Sector 94, Noida</th>\n",
       "      <th>Sector-106 Noida, Noida</th>\n",
       "      <th>Urbainia Trinity Noida Extension Yakubpur Noida, Noida</th>\n",
       "      <th>other</th>\n",
       "    </tr>\n",
       "  </thead>\n",
       "  <tbody>\n",
       "    <tr>\n",
       "      <th>0</th>\n",
       "      <td>1</td>\n",
       "      <td>0</td>\n",
       "      <td>0</td>\n",
       "      <td>0</td>\n",
       "      <td>0</td>\n",
       "      <td>0</td>\n",
       "      <td>0</td>\n",
       "      <td>0</td>\n",
       "      <td>0</td>\n",
       "      <td>0</td>\n",
       "      <td>...</td>\n",
       "      <td>0</td>\n",
       "      <td>0</td>\n",
       "      <td>0</td>\n",
       "      <td>0</td>\n",
       "      <td>0</td>\n",
       "      <td>0</td>\n",
       "      <td>0</td>\n",
       "      <td>0</td>\n",
       "      <td>0</td>\n",
       "      <td>0</td>\n",
       "    </tr>\n",
       "    <tr>\n",
       "      <th>1</th>\n",
       "      <td>1</td>\n",
       "      <td>0</td>\n",
       "      <td>0</td>\n",
       "      <td>0</td>\n",
       "      <td>0</td>\n",
       "      <td>0</td>\n",
       "      <td>0</td>\n",
       "      <td>0</td>\n",
       "      <td>0</td>\n",
       "      <td>0</td>\n",
       "      <td>...</td>\n",
       "      <td>0</td>\n",
       "      <td>0</td>\n",
       "      <td>0</td>\n",
       "      <td>0</td>\n",
       "      <td>0</td>\n",
       "      <td>0</td>\n",
       "      <td>0</td>\n",
       "      <td>0</td>\n",
       "      <td>0</td>\n",
       "      <td>0</td>\n",
       "    </tr>\n",
       "    <tr>\n",
       "      <th>2</th>\n",
       "      <td>1</td>\n",
       "      <td>0</td>\n",
       "      <td>0</td>\n",
       "      <td>0</td>\n",
       "      <td>0</td>\n",
       "      <td>0</td>\n",
       "      <td>0</td>\n",
       "      <td>0</td>\n",
       "      <td>0</td>\n",
       "      <td>0</td>\n",
       "      <td>...</td>\n",
       "      <td>0</td>\n",
       "      <td>0</td>\n",
       "      <td>0</td>\n",
       "      <td>0</td>\n",
       "      <td>0</td>\n",
       "      <td>0</td>\n",
       "      <td>0</td>\n",
       "      <td>0</td>\n",
       "      <td>0</td>\n",
       "      <td>0</td>\n",
       "    </tr>\n",
       "  </tbody>\n",
       "</table>\n",
       "<p>3 rows × 54 columns</p>\n",
       "</div>"
      ],
      "text/plain": [
       "   Phase 2 Noida Extension, Noida  Sector 100, Noida  Sector 104, Noida  \\\n",
       "0                               1                  0                  0   \n",
       "1                               1                  0                  0   \n",
       "2                               1                  0                  0   \n",
       "\n",
       "   Sector 105, Noida  Sector 107, Noida  Sector 108, Noida  Sector 110, Noida  \\\n",
       "0                  0                  0                  0                  0   \n",
       "1                  0                  0                  0                  0   \n",
       "2                  0                  0                  0                  0   \n",
       "\n",
       "   Sector 118, Noida  Sector 119, Noida  Sector 120, Noida  ...  \\\n",
       "0                  0                  0                  0  ...   \n",
       "1                  0                  0                  0  ...   \n",
       "2                  0                  0                  0  ...   \n",
       "\n",
       "   Sector 77, Noida  Sector 78, Noida  Sector 79, Noida  Sector 82, Noida  \\\n",
       "0                 0                 0                 0                 0   \n",
       "1                 0                 0                 0                 0   \n",
       "2                 0                 0                 0                 0   \n",
       "\n",
       "   Sector 93, Noida  Sector 93A, Noida  Sector 94, Noida  \\\n",
       "0                 0                  0                 0   \n",
       "1                 0                  0                 0   \n",
       "2                 0                  0                 0   \n",
       "\n",
       "   Sector-106 Noida, Noida  \\\n",
       "0                        0   \n",
       "1                        0   \n",
       "2                        0   \n",
       "\n",
       "   Urbainia Trinity Noida Extension Yakubpur Noida, Noida  other  \n",
       "0                                                  0           0  \n",
       "1                                                  0           0  \n",
       "2                                                  0           0  \n",
       "\n",
       "[3 rows x 54 columns]"
      ]
     },
     "execution_count": 152,
     "metadata": {},
     "output_type": "execute_result"
    }
   ],
   "source": [
    "dummies = pd.get_dummies(df10.Location).astype(int)\n",
    "dummies.head(3)"
   ]
  },
  {
   "cell_type": "code",
   "execution_count": 153,
   "id": "755ae111-f261-4cc5-ab02-b706575516fd",
   "metadata": {},
   "outputs": [
    {
     "data": {
      "text/html": [
       "<div>\n",
       "<style scoped>\n",
       "    .dataframe tbody tr th:only-of-type {\n",
       "        vertical-align: middle;\n",
       "    }\n",
       "\n",
       "    .dataframe tbody tr th {\n",
       "        vertical-align: top;\n",
       "    }\n",
       "\n",
       "    .dataframe thead th {\n",
       "        text-align: right;\n",
       "    }\n",
       "</style>\n",
       "<table border=\"1\" class=\"dataframe\">\n",
       "  <thead>\n",
       "    <tr style=\"text-align: right;\">\n",
       "      <th></th>\n",
       "      <th>Area_in_Sqft</th>\n",
       "      <th>Num_BHK</th>\n",
       "      <th>Location</th>\n",
       "      <th>Price</th>\n",
       "      <th>Phase 2 Noida Extension, Noida</th>\n",
       "      <th>Sector 100, Noida</th>\n",
       "      <th>Sector 104, Noida</th>\n",
       "      <th>Sector 105, Noida</th>\n",
       "      <th>Sector 107, Noida</th>\n",
       "      <th>Sector 108, Noida</th>\n",
       "      <th>...</th>\n",
       "      <th>Sector 76, Noida</th>\n",
       "      <th>Sector 77, Noida</th>\n",
       "      <th>Sector 78, Noida</th>\n",
       "      <th>Sector 79, Noida</th>\n",
       "      <th>Sector 82, Noida</th>\n",
       "      <th>Sector 93, Noida</th>\n",
       "      <th>Sector 93A, Noida</th>\n",
       "      <th>Sector 94, Noida</th>\n",
       "      <th>Sector-106 Noida, Noida</th>\n",
       "      <th>Urbainia Trinity Noida Extension Yakubpur Noida, Noida</th>\n",
       "    </tr>\n",
       "  </thead>\n",
       "  <tbody>\n",
       "    <tr>\n",
       "      <th>0</th>\n",
       "      <td>950</td>\n",
       "      <td>2</td>\n",
       "      <td>Phase 2 Noida Extension, Noida</td>\n",
       "      <td>25.99</td>\n",
       "      <td>1</td>\n",
       "      <td>0</td>\n",
       "      <td>0</td>\n",
       "      <td>0</td>\n",
       "      <td>0</td>\n",
       "      <td>0</td>\n",
       "      <td>...</td>\n",
       "      <td>0</td>\n",
       "      <td>0</td>\n",
       "      <td>0</td>\n",
       "      <td>0</td>\n",
       "      <td>0</td>\n",
       "      <td>0</td>\n",
       "      <td>0</td>\n",
       "      <td>0</td>\n",
       "      <td>0</td>\n",
       "      <td>0</td>\n",
       "    </tr>\n",
       "    <tr>\n",
       "      <th>1</th>\n",
       "      <td>945</td>\n",
       "      <td>2</td>\n",
       "      <td>Phase 2 Noida Extension, Noida</td>\n",
       "      <td>25.90</td>\n",
       "      <td>1</td>\n",
       "      <td>0</td>\n",
       "      <td>0</td>\n",
       "      <td>0</td>\n",
       "      <td>0</td>\n",
       "      <td>0</td>\n",
       "      <td>...</td>\n",
       "      <td>0</td>\n",
       "      <td>0</td>\n",
       "      <td>0</td>\n",
       "      <td>0</td>\n",
       "      <td>0</td>\n",
       "      <td>0</td>\n",
       "      <td>0</td>\n",
       "      <td>0</td>\n",
       "      <td>0</td>\n",
       "      <td>0</td>\n",
       "    </tr>\n",
       "    <tr>\n",
       "      <th>2</th>\n",
       "      <td>1350</td>\n",
       "      <td>3</td>\n",
       "      <td>Phase 2 Noida Extension, Noida</td>\n",
       "      <td>35.90</td>\n",
       "      <td>1</td>\n",
       "      <td>0</td>\n",
       "      <td>0</td>\n",
       "      <td>0</td>\n",
       "      <td>0</td>\n",
       "      <td>0</td>\n",
       "      <td>...</td>\n",
       "      <td>0</td>\n",
       "      <td>0</td>\n",
       "      <td>0</td>\n",
       "      <td>0</td>\n",
       "      <td>0</td>\n",
       "      <td>0</td>\n",
       "      <td>0</td>\n",
       "      <td>0</td>\n",
       "      <td>0</td>\n",
       "      <td>0</td>\n",
       "    </tr>\n",
       "  </tbody>\n",
       "</table>\n",
       "<p>3 rows × 57 columns</p>\n",
       "</div>"
      ],
      "text/plain": [
       "   Area_in_Sqft  Num_BHK                        Location  Price  \\\n",
       "0           950        2  Phase 2 Noida Extension, Noida  25.99   \n",
       "1           945        2  Phase 2 Noida Extension, Noida  25.90   \n",
       "2          1350        3  Phase 2 Noida Extension, Noida  35.90   \n",
       "\n",
       "   Phase 2 Noida Extension, Noida  Sector 100, Noida  Sector 104, Noida  \\\n",
       "0                               1                  0                  0   \n",
       "1                               1                  0                  0   \n",
       "2                               1                  0                  0   \n",
       "\n",
       "   Sector 105, Noida  Sector 107, Noida  Sector 108, Noida  ...  \\\n",
       "0                  0                  0                  0  ...   \n",
       "1                  0                  0                  0  ...   \n",
       "2                  0                  0                  0  ...   \n",
       "\n",
       "   Sector 76, Noida  Sector 77, Noida  Sector 78, Noida  Sector 79, Noida  \\\n",
       "0                 0                 0                 0                 0   \n",
       "1                 0                 0                 0                 0   \n",
       "2                 0                 0                 0                 0   \n",
       "\n",
       "   Sector 82, Noida  Sector 93, Noida  Sector 93A, Noida  Sector 94, Noida  \\\n",
       "0                 0                 0                  0                 0   \n",
       "1                 0                 0                  0                 0   \n",
       "2                 0                 0                  0                 0   \n",
       "\n",
       "   Sector-106 Noida, Noida  \\\n",
       "0                        0   \n",
       "1                        0   \n",
       "2                        0   \n",
       "\n",
       "   Urbainia Trinity Noida Extension Yakubpur Noida, Noida  \n",
       "0                                                  0       \n",
       "1                                                  0       \n",
       "2                                                  0       \n",
       "\n",
       "[3 rows x 57 columns]"
      ]
     },
     "execution_count": 153,
     "metadata": {},
     "output_type": "execute_result"
    }
   ],
   "source": [
    "df11 = pd.concat([df10,dummies.drop('other',axis='columns')],axis='columns')\n",
    "df11.head(3)"
   ]
  },
  {
   "cell_type": "code",
   "execution_count": 154,
   "id": "6a6f610c-a4e1-4751-8828-e8b56d190c8e",
   "metadata": {},
   "outputs": [
    {
     "data": {
      "text/html": [
       "<div>\n",
       "<style scoped>\n",
       "    .dataframe tbody tr th:only-of-type {\n",
       "        vertical-align: middle;\n",
       "    }\n",
       "\n",
       "    .dataframe tbody tr th {\n",
       "        vertical-align: top;\n",
       "    }\n",
       "\n",
       "    .dataframe thead th {\n",
       "        text-align: right;\n",
       "    }\n",
       "</style>\n",
       "<table border=\"1\" class=\"dataframe\">\n",
       "  <thead>\n",
       "    <tr style=\"text-align: right;\">\n",
       "      <th></th>\n",
       "      <th>Area_in_Sqft</th>\n",
       "      <th>Num_BHK</th>\n",
       "      <th>Price</th>\n",
       "      <th>Phase 2 Noida Extension, Noida</th>\n",
       "      <th>Sector 100, Noida</th>\n",
       "      <th>Sector 104, Noida</th>\n",
       "      <th>Sector 105, Noida</th>\n",
       "      <th>Sector 107, Noida</th>\n",
       "      <th>Sector 108, Noida</th>\n",
       "      <th>Sector 110, Noida</th>\n",
       "      <th>...</th>\n",
       "      <th>Sector 76, Noida</th>\n",
       "      <th>Sector 77, Noida</th>\n",
       "      <th>Sector 78, Noida</th>\n",
       "      <th>Sector 79, Noida</th>\n",
       "      <th>Sector 82, Noida</th>\n",
       "      <th>Sector 93, Noida</th>\n",
       "      <th>Sector 93A, Noida</th>\n",
       "      <th>Sector 94, Noida</th>\n",
       "      <th>Sector-106 Noida, Noida</th>\n",
       "      <th>Urbainia Trinity Noida Extension Yakubpur Noida, Noida</th>\n",
       "    </tr>\n",
       "  </thead>\n",
       "  <tbody>\n",
       "    <tr>\n",
       "      <th>0</th>\n",
       "      <td>950</td>\n",
       "      <td>2</td>\n",
       "      <td>25.99</td>\n",
       "      <td>1</td>\n",
       "      <td>0</td>\n",
       "      <td>0</td>\n",
       "      <td>0</td>\n",
       "      <td>0</td>\n",
       "      <td>0</td>\n",
       "      <td>0</td>\n",
       "      <td>...</td>\n",
       "      <td>0</td>\n",
       "      <td>0</td>\n",
       "      <td>0</td>\n",
       "      <td>0</td>\n",
       "      <td>0</td>\n",
       "      <td>0</td>\n",
       "      <td>0</td>\n",
       "      <td>0</td>\n",
       "      <td>0</td>\n",
       "      <td>0</td>\n",
       "    </tr>\n",
       "    <tr>\n",
       "      <th>1</th>\n",
       "      <td>945</td>\n",
       "      <td>2</td>\n",
       "      <td>25.90</td>\n",
       "      <td>1</td>\n",
       "      <td>0</td>\n",
       "      <td>0</td>\n",
       "      <td>0</td>\n",
       "      <td>0</td>\n",
       "      <td>0</td>\n",
       "      <td>0</td>\n",
       "      <td>...</td>\n",
       "      <td>0</td>\n",
       "      <td>0</td>\n",
       "      <td>0</td>\n",
       "      <td>0</td>\n",
       "      <td>0</td>\n",
       "      <td>0</td>\n",
       "      <td>0</td>\n",
       "      <td>0</td>\n",
       "      <td>0</td>\n",
       "      <td>0</td>\n",
       "    </tr>\n",
       "  </tbody>\n",
       "</table>\n",
       "<p>2 rows × 56 columns</p>\n",
       "</div>"
      ],
      "text/plain": [
       "   Area_in_Sqft  Num_BHK  Price  Phase 2 Noida Extension, Noida  \\\n",
       "0           950        2  25.99                               1   \n",
       "1           945        2  25.90                               1   \n",
       "\n",
       "   Sector 100, Noida  Sector 104, Noida  Sector 105, Noida  Sector 107, Noida  \\\n",
       "0                  0                  0                  0                  0   \n",
       "1                  0                  0                  0                  0   \n",
       "\n",
       "   Sector 108, Noida  Sector 110, Noida  ...  Sector 76, Noida  \\\n",
       "0                  0                  0  ...                 0   \n",
       "1                  0                  0  ...                 0   \n",
       "\n",
       "   Sector 77, Noida  Sector 78, Noida  Sector 79, Noida  Sector 82, Noida  \\\n",
       "0                 0                 0                 0                 0   \n",
       "1                 0                 0                 0                 0   \n",
       "\n",
       "   Sector 93, Noida  Sector 93A, Noida  Sector 94, Noida  \\\n",
       "0                 0                  0                 0   \n",
       "1                 0                  0                 0   \n",
       "\n",
       "   Sector-106 Noida, Noida  \\\n",
       "0                        0   \n",
       "1                        0   \n",
       "\n",
       "   Urbainia Trinity Noida Extension Yakubpur Noida, Noida  \n",
       "0                                                  0       \n",
       "1                                                  0       \n",
       "\n",
       "[2 rows x 56 columns]"
      ]
     },
     "execution_count": 154,
     "metadata": {},
     "output_type": "execute_result"
    }
   ],
   "source": [
    "df12  = df11.drop('Location',axis='columns')\n",
    "df12.head(2)"
   ]
  },
  {
   "cell_type": "code",
   "execution_count": 155,
   "id": "f3eb820f-563d-497b-9171-e14b2fbc23d4",
   "metadata": {},
   "outputs": [
    {
     "data": {
      "text/plain": [
       "(1257, 56)"
      ]
     },
     "execution_count": 155,
     "metadata": {},
     "output_type": "execute_result"
    }
   ],
   "source": [
    "df12.shape"
   ]
  },
  {
   "cell_type": "code",
   "execution_count": 156,
   "id": "760690e9-4a2b-43ec-9220-1428bb6c1862",
   "metadata": {},
   "outputs": [
    {
     "data": {
      "text/html": [
       "<div>\n",
       "<style scoped>\n",
       "    .dataframe tbody tr th:only-of-type {\n",
       "        vertical-align: middle;\n",
       "    }\n",
       "\n",
       "    .dataframe tbody tr th {\n",
       "        vertical-align: top;\n",
       "    }\n",
       "\n",
       "    .dataframe thead th {\n",
       "        text-align: right;\n",
       "    }\n",
       "</style>\n",
       "<table border=\"1\" class=\"dataframe\">\n",
       "  <thead>\n",
       "    <tr style=\"text-align: right;\">\n",
       "      <th></th>\n",
       "      <th>Area_in_Sqft</th>\n",
       "      <th>Num_BHK</th>\n",
       "      <th>Phase 2 Noida Extension, Noida</th>\n",
       "      <th>Sector 100, Noida</th>\n",
       "      <th>Sector 104, Noida</th>\n",
       "      <th>Sector 105, Noida</th>\n",
       "      <th>Sector 107, Noida</th>\n",
       "      <th>Sector 108, Noida</th>\n",
       "      <th>Sector 110, Noida</th>\n",
       "      <th>Sector 118, Noida</th>\n",
       "      <th>...</th>\n",
       "      <th>Sector 76, Noida</th>\n",
       "      <th>Sector 77, Noida</th>\n",
       "      <th>Sector 78, Noida</th>\n",
       "      <th>Sector 79, Noida</th>\n",
       "      <th>Sector 82, Noida</th>\n",
       "      <th>Sector 93, Noida</th>\n",
       "      <th>Sector 93A, Noida</th>\n",
       "      <th>Sector 94, Noida</th>\n",
       "      <th>Sector-106 Noida, Noida</th>\n",
       "      <th>Urbainia Trinity Noida Extension Yakubpur Noida, Noida</th>\n",
       "    </tr>\n",
       "  </thead>\n",
       "  <tbody>\n",
       "    <tr>\n",
       "      <th>0</th>\n",
       "      <td>950</td>\n",
       "      <td>2</td>\n",
       "      <td>1</td>\n",
       "      <td>0</td>\n",
       "      <td>0</td>\n",
       "      <td>0</td>\n",
       "      <td>0</td>\n",
       "      <td>0</td>\n",
       "      <td>0</td>\n",
       "      <td>0</td>\n",
       "      <td>...</td>\n",
       "      <td>0</td>\n",
       "      <td>0</td>\n",
       "      <td>0</td>\n",
       "      <td>0</td>\n",
       "      <td>0</td>\n",
       "      <td>0</td>\n",
       "      <td>0</td>\n",
       "      <td>0</td>\n",
       "      <td>0</td>\n",
       "      <td>0</td>\n",
       "    </tr>\n",
       "    <tr>\n",
       "      <th>1</th>\n",
       "      <td>945</td>\n",
       "      <td>2</td>\n",
       "      <td>1</td>\n",
       "      <td>0</td>\n",
       "      <td>0</td>\n",
       "      <td>0</td>\n",
       "      <td>0</td>\n",
       "      <td>0</td>\n",
       "      <td>0</td>\n",
       "      <td>0</td>\n",
       "      <td>...</td>\n",
       "      <td>0</td>\n",
       "      <td>0</td>\n",
       "      <td>0</td>\n",
       "      <td>0</td>\n",
       "      <td>0</td>\n",
       "      <td>0</td>\n",
       "      <td>0</td>\n",
       "      <td>0</td>\n",
       "      <td>0</td>\n",
       "      <td>0</td>\n",
       "    </tr>\n",
       "    <tr>\n",
       "      <th>2</th>\n",
       "      <td>1350</td>\n",
       "      <td>3</td>\n",
       "      <td>1</td>\n",
       "      <td>0</td>\n",
       "      <td>0</td>\n",
       "      <td>0</td>\n",
       "      <td>0</td>\n",
       "      <td>0</td>\n",
       "      <td>0</td>\n",
       "      <td>0</td>\n",
       "      <td>...</td>\n",
       "      <td>0</td>\n",
       "      <td>0</td>\n",
       "      <td>0</td>\n",
       "      <td>0</td>\n",
       "      <td>0</td>\n",
       "      <td>0</td>\n",
       "      <td>0</td>\n",
       "      <td>0</td>\n",
       "      <td>0</td>\n",
       "      <td>0</td>\n",
       "    </tr>\n",
       "    <tr>\n",
       "      <th>3</th>\n",
       "      <td>1300</td>\n",
       "      <td>3</td>\n",
       "      <td>1</td>\n",
       "      <td>0</td>\n",
       "      <td>0</td>\n",
       "      <td>0</td>\n",
       "      <td>0</td>\n",
       "      <td>0</td>\n",
       "      <td>0</td>\n",
       "      <td>0</td>\n",
       "      <td>...</td>\n",
       "      <td>0</td>\n",
       "      <td>0</td>\n",
       "      <td>0</td>\n",
       "      <td>0</td>\n",
       "      <td>0</td>\n",
       "      <td>0</td>\n",
       "      <td>0</td>\n",
       "      <td>0</td>\n",
       "      <td>0</td>\n",
       "      <td>0</td>\n",
       "    </tr>\n",
       "    <tr>\n",
       "      <th>4</th>\n",
       "      <td>1200</td>\n",
       "      <td>2</td>\n",
       "      <td>1</td>\n",
       "      <td>0</td>\n",
       "      <td>0</td>\n",
       "      <td>0</td>\n",
       "      <td>0</td>\n",
       "      <td>0</td>\n",
       "      <td>0</td>\n",
       "      <td>0</td>\n",
       "      <td>...</td>\n",
       "      <td>0</td>\n",
       "      <td>0</td>\n",
       "      <td>0</td>\n",
       "      <td>0</td>\n",
       "      <td>0</td>\n",
       "      <td>0</td>\n",
       "      <td>0</td>\n",
       "      <td>0</td>\n",
       "      <td>0</td>\n",
       "      <td>0</td>\n",
       "    </tr>\n",
       "  </tbody>\n",
       "</table>\n",
       "<p>5 rows × 55 columns</p>\n",
       "</div>"
      ],
      "text/plain": [
       "   Area_in_Sqft  Num_BHK  Phase 2 Noida Extension, Noida  Sector 100, Noida  \\\n",
       "0           950        2                               1                  0   \n",
       "1           945        2                               1                  0   \n",
       "2          1350        3                               1                  0   \n",
       "3          1300        3                               1                  0   \n",
       "4          1200        2                               1                  0   \n",
       "\n",
       "   Sector 104, Noida  Sector 105, Noida  Sector 107, Noida  Sector 108, Noida  \\\n",
       "0                  0                  0                  0                  0   \n",
       "1                  0                  0                  0                  0   \n",
       "2                  0                  0                  0                  0   \n",
       "3                  0                  0                  0                  0   \n",
       "4                  0                  0                  0                  0   \n",
       "\n",
       "   Sector 110, Noida  Sector 118, Noida  ...  Sector 76, Noida  \\\n",
       "0                  0                  0  ...                 0   \n",
       "1                  0                  0  ...                 0   \n",
       "2                  0                  0  ...                 0   \n",
       "3                  0                  0  ...                 0   \n",
       "4                  0                  0  ...                 0   \n",
       "\n",
       "   Sector 77, Noida  Sector 78, Noida  Sector 79, Noida  Sector 82, Noida  \\\n",
       "0                 0                 0                 0                 0   \n",
       "1                 0                 0                 0                 0   \n",
       "2                 0                 0                 0                 0   \n",
       "3                 0                 0                 0                 0   \n",
       "4                 0                 0                 0                 0   \n",
       "\n",
       "   Sector 93, Noida  Sector 93A, Noida  Sector 94, Noida  \\\n",
       "0                 0                  0                 0   \n",
       "1                 0                  0                 0   \n",
       "2                 0                  0                 0   \n",
       "3                 0                  0                 0   \n",
       "4                 0                  0                 0   \n",
       "\n",
       "   Sector-106 Noida, Noida  \\\n",
       "0                        0   \n",
       "1                        0   \n",
       "2                        0   \n",
       "3                        0   \n",
       "4                        0   \n",
       "\n",
       "   Urbainia Trinity Noida Extension Yakubpur Noida, Noida  \n",
       "0                                                  0       \n",
       "1                                                  0       \n",
       "2                                                  0       \n",
       "3                                                  0       \n",
       "4                                                  0       \n",
       "\n",
       "[5 rows x 55 columns]"
      ]
     },
     "execution_count": 156,
     "metadata": {},
     "output_type": "execute_result"
    }
   ],
   "source": [
    "X = df12.drop('Price',axis='columns')\n",
    "X.head()"
   ]
  },
  {
   "cell_type": "code",
   "execution_count": 158,
   "id": "026f8dac-32db-4576-87c3-67a85d5a318d",
   "metadata": {},
   "outputs": [
    {
     "data": {
      "text/plain": [
       "0    25.99\n",
       "1    25.90\n",
       "2    35.90\n",
       "3    34.90\n",
       "4    28.99\n",
       "Name: Price, dtype: float64"
      ]
     },
     "execution_count": 158,
     "metadata": {},
     "output_type": "execute_result"
    }
   ],
   "source": [
    "y = df12.Price\n",
    "y.head()"
   ]
  },
  {
   "cell_type": "code",
   "execution_count": 159,
   "id": "02a609d5-fb6b-457b-bead-8dcb08d8424a",
   "metadata": {},
   "outputs": [],
   "source": [
    "from sklearn.model_selection import train_test_split\n",
    "X_train,X_test, y_train, y_test = train_test_split(X,y,test_size=0.2,random_state=10)"
   ]
  },
  {
   "cell_type": "code",
   "execution_count": 160,
   "id": "94c9dd7b-45f9-455e-8474-2eae2d93e622",
   "metadata": {},
   "outputs": [
    {
     "data": {
      "text/plain": [
       "0.9136949052155271"
      ]
     },
     "execution_count": 160,
     "metadata": {},
     "output_type": "execute_result"
    }
   ],
   "source": [
    "from sklearn.linear_model import LinearRegression\n",
    "lr_clf = LinearRegression()\n",
    "lr_clf.fit(X_train,y_train)\n",
    "lr_clf.score(X_test,y_test)"
   ]
  },
  {
   "cell_type": "code",
   "execution_count": 161,
   "id": "392b2b14-7569-4b67-8365-2589261e4638",
   "metadata": {},
   "outputs": [
    {
     "data": {
      "text/plain": [
       "array([0.92250075, 0.86992386, 0.83904451, 0.89779993, 0.89892243])"
      ]
     },
     "execution_count": 161,
     "metadata": {},
     "output_type": "execute_result"
    }
   ],
   "source": [
    "from sklearn.model_selection import ShuffleSplit\n",
    "from sklearn.model_selection import cross_val_score\n",
    "\n",
    "cv = ShuffleSplit(n_splits=5, test_size=0.2, random_state=0)\n",
    "\n",
    "cross_val_score(LinearRegression(), X, y, cv=cv)"
   ]
  },
  {
   "cell_type": "code",
   "execution_count": 162,
   "id": "9b4ce2e9-f3ad-4f5b-9b22-5d266d11110a",
   "metadata": {},
   "outputs": [
    {
     "data": {
      "text/html": [
       "<div>\n",
       "<style scoped>\n",
       "    .dataframe tbody tr th:only-of-type {\n",
       "        vertical-align: middle;\n",
       "    }\n",
       "\n",
       "    .dataframe tbody tr th {\n",
       "        vertical-align: top;\n",
       "    }\n",
       "\n",
       "    .dataframe thead th {\n",
       "        text-align: right;\n",
       "    }\n",
       "</style>\n",
       "<table border=\"1\" class=\"dataframe\">\n",
       "  <thead>\n",
       "    <tr style=\"text-align: right;\">\n",
       "      <th></th>\n",
       "      <th>model</th>\n",
       "      <th>best_score</th>\n",
       "      <th>best_params</th>\n",
       "    </tr>\n",
       "  </thead>\n",
       "  <tbody>\n",
       "    <tr>\n",
       "      <th>0</th>\n",
       "      <td>linear_regression</td>\n",
       "      <td>0.885638</td>\n",
       "      <td>{}</td>\n",
       "    </tr>\n",
       "    <tr>\n",
       "      <th>1</th>\n",
       "      <td>lasso</td>\n",
       "      <td>0.856182</td>\n",
       "      <td>{'alpha': 1, 'selection': 'cyclic'}</td>\n",
       "    </tr>\n",
       "    <tr>\n",
       "      <th>2</th>\n",
       "      <td>decision_tree</td>\n",
       "      <td>0.870978</td>\n",
       "      <td>{'criterion': 'friedman_mse', 'splitter': 'ran...</td>\n",
       "    </tr>\n",
       "  </tbody>\n",
       "</table>\n",
       "</div>"
      ],
      "text/plain": [
       "               model  best_score  \\\n",
       "0  linear_regression    0.885638   \n",
       "1              lasso    0.856182   \n",
       "2      decision_tree    0.870978   \n",
       "\n",
       "                                         best_params  \n",
       "0                                                 {}  \n",
       "1                {'alpha': 1, 'selection': 'cyclic'}  \n",
       "2  {'criterion': 'friedman_mse', 'splitter': 'ran...  "
      ]
     },
     "execution_count": 162,
     "metadata": {},
     "output_type": "execute_result"
    }
   ],
   "source": [
    "from sklearn.model_selection import GridSearchCV\n",
    "\n",
    "from sklearn.pipeline import Pipeline\n",
    "from sklearn.preprocessing import StandardScaler\n",
    "\n",
    "from sklearn.linear_model import Lasso\n",
    "from sklearn.tree import DecisionTreeRegressor\n",
    "\n",
    "def find_best_model_using_gridsearchcv(X, y):\n",
    "    algos = {\n",
    "        'linear_regression': {\n",
    "            'model': Pipeline([\n",
    "            ('scaler', StandardScaler()),  # Apply Standardization\n",
    "            ('regressor', LinearRegression())\n",
    "            ]),\n",
    "            'params': {}  # No need for normalize now\n",
    "        },\n",
    "        'lasso': {\n",
    "            'model': Lasso(),\n",
    "            'params': {\n",
    "                'alpha': [1, 2],\n",
    "                'selection': ['random', 'cyclic']\n",
    "            }\n",
    "        },\n",
    "        'decision_tree': {\n",
    "            'model': DecisionTreeRegressor(),\n",
    "            'params': {\n",
    "                'criterion': ['squared_error', 'friedman_mse'],  # Fixed \"mse\" to \"squared_error\"\n",
    "                'splitter': ['best', 'random']\n",
    "            }\n",
    "        }\n",
    "    }\n",
    "    \n",
    "    scores = []\n",
    "    cv = ShuffleSplit(n_splits=5, test_size=0.2, random_state=0)\n",
    "    \n",
    "    for algo_name, config in algos.items():\n",
    "        gs = GridSearchCV(config['model'], config['params'], cv=cv, return_train_score=False)\n",
    "        gs.fit(X, y)\n",
    "        scores.append({\n",
    "            'model': algo_name,\n",
    "            'best_score': gs.best_score_,\n",
    "            'best_params': gs.best_params_\n",
    "        })\n",
    "    \n",
    "    return pd.DataFrame(scores, columns=['model', 'best_score', 'best_params'])\n",
    "\n",
    "# Call the function\n",
    "find_best_model_using_gridsearchcv(X, y)"
   ]
  },
  {
   "cell_type": "code",
   "execution_count": 163,
   "id": "cffbd091-7a33-470f-9edd-505556be9ca3",
   "metadata": {},
   "outputs": [
    {
     "data": {
      "text/plain": [
       "Index(['Area_in_Sqft', 'Num_BHK', 'Phase 2 Noida Extension, Noida',\n",
       "       'Sector 100, Noida', 'Sector 104, Noida', 'Sector 105, Noida',\n",
       "       'Sector 107, Noida', 'Sector 108, Noida', 'Sector 110, Noida',\n",
       "       'Sector 118, Noida', 'Sector 119, Noida', 'Sector 120, Noida',\n",
       "       'Sector 121, Noida', 'Sector 128, Noida', 'Sector 134, Noida',\n",
       "       'Sector 137, Noida', 'Sector 14, Noida', 'Sector 143, Noida',\n",
       "       'Sector 143B, Noida', 'Sector 144, Noida', 'Sector 149, Noida',\n",
       "       'Sector 150, Noida', 'Sector 151, Noida', 'Sector 152, Noida',\n",
       "       'Sector 15A, Noida', 'Sector 18, Noida',\n",
       "       'Sector 19 Yamuna Expressway, Noida', 'Sector 19, Noida',\n",
       "       'Sector 34, Noida', 'Sector 37, Noida', 'Sector 39, Noida',\n",
       "       'Sector 40, Noida', 'Sector 41, Noida', 'Sector 43, Noida',\n",
       "       'Sector 44, Noida', 'Sector 45, Noida', 'Sector 46, Noida',\n",
       "       'Sector 49, Noida', 'Sector 50, Noida', 'Sector 61, Noida',\n",
       "       'Sector 62, Noida', 'Sector 72, Noida', 'Sector 73, Noida',\n",
       "       'Sector 74, Noida', 'Sector 75, Noida', 'Sector 76, Noida',\n",
       "       'Sector 77, Noida', 'Sector 78, Noida', 'Sector 79, Noida',\n",
       "       'Sector 82, Noida', 'Sector 93, Noida', 'Sector 93A, Noida',\n",
       "       'Sector 94, Noida', 'Sector-106 Noida, Noida',\n",
       "       'Urbainia Trinity Noida Extension Yakubpur Noida, Noida'],\n",
       "      dtype='object')"
      ]
     },
     "execution_count": 163,
     "metadata": {},
     "output_type": "execute_result"
    }
   ],
   "source": [
    "X.columns"
   ]
  },
  {
   "cell_type": "code",
   "execution_count": 164,
   "id": "e595dcb1-52db-4243-8270-8af09acb7910",
   "metadata": {},
   "outputs": [],
   "source": [
    "def predict_price(location, sqft, bhk, model, X):\n",
    "    # Ensure location exists in columns\n",
    "    if location in X.columns:\n",
    "        loc_index = np.where(X.columns == location)[0][0]\n",
    "    else:\n",
    "        loc_index = -1  # Handle unknown locations gracefully\n",
    "\n",
    "    # Create input array\n",
    "    x = np.zeros(len(X.columns))  # Initialize with zeros\n",
    "    x[0] = sqft\n",
    "    x[1] = bhk\n",
    "\n",
    "    # Set location feature to 1 if found\n",
    "    if loc_index >= 0:\n",
    "        x[loc_index] = 1\n",
    "\n",
    "    # Predict using trained model\n",
    "    return float(model.predict([x])[0])  # Ensure 2D array input"
   ]
  },
  {
   "cell_type": "code",
   "execution_count": 167,
   "id": "fa113ad5-e070-4395-b037-d8ad5fa65957",
   "metadata": {},
   "outputs": [
    {
     "name": "stderr",
     "output_type": "stream",
     "text": [
      "C:\\Users\\DELL\\AppData\\Local\\Programs\\Python\\Python313\\Lib\\site-packages\\sklearn\\base.py:493: UserWarning: X does not have valid feature names, but LinearRegression was fitted with feature names\n",
      "  warnings.warn(\n"
     ]
    },
    {
     "data": {
      "text/plain": [
       "78.36709715616871"
      ]
     },
     "execution_count": 167,
     "metadata": {},
     "output_type": "execute_result"
    }
   ],
   "source": [
    "predict_price('Sector 150, Noida',1155,2,lr_clf, X)"
   ]
  },
  {
   "cell_type": "code",
   "execution_count": 168,
   "id": "9d9c94c3-ff31-4c00-bf33-3aa21d4fff75",
   "metadata": {},
   "outputs": [],
   "source": [
    "import pickle\n",
    "with open('noida_home_price_model.pickle','wb') as f:\n",
    "    pickle.dump(lr_clf,f)"
   ]
  },
  {
   "cell_type": "code",
   "execution_count": 169,
   "id": "425beb11-9c02-40bc-8f6e-a63226a4f879",
   "metadata": {},
   "outputs": [],
   "source": [
    "import json\n",
    "columns = {\n",
    "        'data_columns' : [col.lower() for col in X.columns]\n",
    "    }\n",
    "with open(\"noida_columns.json\",\"w\") as f:\n",
    "    f.write(json.dumps(columns))"
   ]
  },
  {
   "cell_type": "code",
   "execution_count": null,
   "id": "0bcaf5d2-4d9a-4f24-adee-a5a267918f07",
   "metadata": {},
   "outputs": [],
   "source": []
  }
 ],
 "metadata": {
  "kernelspec": {
   "display_name": "Python 3 (ipykernel)",
   "language": "python",
   "name": "python3"
  },
  "language_info": {
   "codemirror_mode": {
    "name": "ipython",
    "version": 3
   },
   "file_extension": ".py",
   "mimetype": "text/x-python",
   "name": "python",
   "nbconvert_exporter": "python",
   "pygments_lexer": "ipython3",
   "version": "3.13.0"
  }
 },
 "nbformat": 4,
 "nbformat_minor": 5
}
